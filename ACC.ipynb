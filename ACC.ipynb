{
 "cells": [
  {
   "cell_type": "code",
   "execution_count": 1,
   "id": "2682f6ca",
   "metadata": {},
   "outputs": [],
   "source": [
    "from DPC import DPCModel\n",
    "from FLORIS_PT import FLORIS_PT\n",
    "import torch\n",
    "import torch.nn.functional as F\n",
    "import numpy as np\n",
    "import matplotlib.pyplot as plt\n",
    "import matplotlib as mpl\n",
    "import matplotlib.colors as mplcolors\n",
    "plt.rcParams.update({'font.size': 16})"
   ]
  },
  {
   "cell_type": "markdown",
   "id": "773792a7",
   "metadata": {},
   "source": [
    "### Inputs"
   ]
  },
  {
   "cell_type": "code",
   "execution_count": 2,
   "id": "496ca421",
   "metadata": {},
   "outputs": [],
   "source": [
    "# input files to define turbine type, wind conditions, and FLORIS model parameters\n",
    "input_file_path = \"./inputs.yaml\"\n",
    "floris_pt = FLORIS_PT(input_file_path)\n",
    "\n",
    "# wind farm layout\n",
    "D = floris_pt.turbine['rotor_diameter']\n",
    "x_coord = torch.tensor([0., 6.*D, 12.*D,\n",
    "                        0., 6.*D, 12.*D,\n",
    "                        0., 6.*D, 12.*D])\n",
    "            \n",
    "y_coord = torch.tensor([6.*D, 6.*D, 6.*D,\n",
    "                        3.*D, 3.*D, 3.*D,\n",
    "                        0., 0., 0., ])\n",
    "z_hh = floris_pt.turbine['hub_height']\n",
    "nturbs = len(x_coord)\n",
    "z_coord = torch.tensor([z_hh] * nturbs)\n",
    "\n",
    "# dropout\n",
    "dropout=True\n",
    "active_prob = .5 # probability turbine is active during training\n",
    "\n",
    "# set bounds on allowed yaw angle\n",
    "umin = torch.tensor([0.]) # minimum allowed yaw angle (degrees)\n",
    "umax = torch.tensor([25.]) # maximum allowed yaw angle (degrees)\n",
    "\n",
    "# neural network parameters\n",
    "model_config = dict({\"n_turbines\": nturbs, \n",
    "                     \"hidden_dim\": 128, \n",
    "                     \"dropout\": dropout})\n",
    "\n",
    "# hyperparameters\n",
    "lambda_ = 100. # scaling constant for penalty on constraint violations\n",
    "lr = .00025\n",
    "batch_size = 50\n",
    "N_batches = 400\n",
    "N_epochs = 2\n",
    "\n",
    "# generate training data\n",
    "# ws from [ws_min, ws_max]; m/s\n",
    "ws_max = 8.0\n",
    "ws_min = 3.0\n",
    "ws_training = torch.rand((N_batches, batch_size, 1)) * (ws_max - ws_min) + ws_min \n",
    "# wd varies around wd_fixed; degrees\n",
    "wd_fixed = 275.\n",
    "wd_training = wd_fixed + .1*(torch.rand((N_batches, batch_size, 1)) -.5) \n",
    "\n",
    "# 1-8 turbines active\n",
    "active_turbs_training = torch.rand((N_batches, batch_size, nturbs)) < active_prob\n",
    "for batch in range(N_batches):\n",
    "    for sample in range(batch_size):\n",
    "        active_turbs= active_turbs_training[batch, sample, :]\n",
    "        while torch.all(active_turbs == torch.tensor([False] * nturbs)):\n",
    "            active_turbs_training[batch, sample, :] = torch.rand(nturbs) < active_prob\n",
    "\n",
    "# pick validation set\n",
    "ws_validation = torch.tensor([[4.], [6.], [8.]]) # m/s\n",
    "wd_validation = torch.tensor([wd_fixed]) # degrees\n",
    "active_turbs_validation = [torch.tensor([True, True, True, \n",
    "                                   True, True, True, \n",
    "                                   True, True, True]), \n",
    "                           torch.tensor([True, True, True, \n",
    "                                         True, True, True, \n",
    "                                         True, True, False]),\n",
    "                           torch.tensor([True, True, True, \n",
    "                                         True, True, True, \n",
    "                                         True, False, False]),\n",
    "                           torch.tensor([True, True, True, \n",
    "                                         True, True, False, \n",
    "                                         True, False, False])]"
   ]
  },
  {
   "cell_type": "markdown",
   "id": "ea008143",
   "metadata": {},
   "source": [
    "### Helper functions to apply DPC to FLORIS-PT"
   ]
  },
  {
   "cell_type": "code",
   "execution_count": 3,
   "id": "5f0494ac",
   "metadata": {},
   "outputs": [],
   "source": [
    "# get control action from DPC model\n",
    "def get_control(model, ws, wd, inds_sorted, ws_max, wd_max=360., active_turbs=torch.tensor([False]*nturbs)):\n",
    "    # normalize features to range [0,1] by dividing ws by ws_max and wd by wd_max\n",
    "    x = torch.cat([ws/ws_max, wd/wd_max, active_turbs])\n",
    "    u = model(x)\n",
    "    clipped_u = torch.clone(u)*umax\n",
    "    if active_turbs is not None:\n",
    "        clipped_u = clipped_u[active_turbs]\n",
    "    clipped_u_sorted = clipped_u[inds_sorted.flatten()]\n",
    "    return clipped_u_sorted, clipped_u, u\n",
    "\n",
    "# calculate average power over list of wind speeds\n",
    "# modifies powers list to add this average power\n",
    "def test_power(floris_pt, model, ws_all, wd, powers, x_coord, y_coord, z_coord, \\\n",
    "               ws_max, wd_max=360., active_turbs_all=None):\n",
    "    \n",
    "    for i in range(len(active_turbs_all)):\n",
    "        active_turbs = active_turbs_all[i]\n",
    "        # calculate avg power over wind speeds\n",
    "        power = 0.\n",
    "        \n",
    "        # generate mesh on turbine rotor\n",
    "        x_coord_rotated, y_coord_rotated, mesh_x_rotated, \\\n",
    "            mesh_y_rotated, mesh_z, inds_sorted, x_coord_active = \\\n",
    "            floris_pt.get_turbine_mesh(wd, x_coord, y_coord, z_coord, \\\n",
    "            active_turbs=active_turbs)\n",
    "\n",
    "        for ws in ws_all:\n",
    "            # get control action\n",
    "            clipped_u, _, _ = get_control(model, ws, wd, inds_sorted, \\\n",
    "            ws_max, wd_max, active_turbs=active_turbs)\n",
    "\n",
    "            # calculate field on rotor mesh\n",
    "            flow_field_u, yaw_angle = floris_pt.get_field_rotor(ws, wd, clipped_u, \\\n",
    "                x_coord_active, x_coord_rotated, y_coord_rotated, mesh_x_rotated, \\\n",
    "                mesh_y_rotated, mesh_z, inds_sorted)\n",
    "\n",
    "            # calculate turbine power\n",
    "            p = floris_pt.get_power(flow_field_u, x_coord_rotated, yaw_angle)\n",
    "\n",
    "            # add farm power\n",
    "            power += torch.sum(p)\n",
    "        power /= len(ws_all)\n",
    "        powers[i].append(float(power.detach().numpy()))"
   ]
  },
  {
   "cell_type": "markdown",
   "id": "ab68e0b2",
   "metadata": {},
   "source": [
    "### Training"
   ]
  },
  {
   "cell_type": "code",
   "execution_count": 4,
   "id": "32604618",
   "metadata": {
    "scrolled": true
   },
   "outputs": [],
   "source": [
    "# initialize DPC model\n",
    "model = DPCModel(**model_config)\n",
    "\n",
    "# initialize optimizer used for training\n",
    "opt = torch.optim.Adam(model.parameters(), lr=lr)\n",
    "\n",
    "# vectors to track training progress\n",
    "opt_losses = []\n",
    "powers_validation = [[] for i in range(len(active_turbs_validation))]\n",
    "\n",
    "# calculate and record power over validation set \n",
    "# using control actions from untrained DPC policy\n",
    "test_power(floris_pt, model, ws_validation, wd_validation, powers_validation, \\\n",
    "           x_coord, y_coord, z_coord, ws_max, \\\n",
    "           active_turbs_all=active_turbs_validation)\n",
    "\n",
    "for epoch in range(1):\n",
    "    for batch in range(N_batches):\n",
    "        opt_loss = 0.\n",
    "\n",
    "        # forward pass\n",
    "        for sample in range(batch_size):\n",
    "            ws = ws_training[batch, sample]\n",
    "            wd = wd_training[batch, sample]\n",
    "            active_turbs = active_turbs_training[batch, sample, :]\n",
    "\n",
    "            # generate mesh on turbine rotor\n",
    "            x_coord_rotated, y_coord_rotated, mesh_x_rotated, \\\n",
    "                mesh_y_rotated, mesh_z, inds_sorted, x_coord_active = \\\n",
    "                floris_pt.get_turbine_mesh(wd, x_coord, y_coord, z_coord, \\\n",
    "                active_turbs=active_turbs)\n",
    "\n",
    "            # get control action\n",
    "            clipped_u, _, u = get_control(model, ws, wd, inds_sorted, ws_max, \\\n",
    "                active_turbs=active_turbs)\n",
    "\n",
    "            # calculate field on rotor mesh\n",
    "            flow_field_u, yaw_angle = floris_pt.get_field_rotor(ws, wd, clipped_u, \\\n",
    "                x_coord_active, x_coord_rotated, y_coord_rotated, mesh_x_rotated, \\\n",
    "                mesh_y_rotated, mesh_z, inds_sorted)\n",
    "\n",
    "            # calculate turbine power\n",
    "            p = floris_pt.get_power(flow_field_u, x_coord_rotated, yaw_angle)\n",
    "\n",
    "            # negative farm power (negative b/c optimizer minimizes loss)\n",
    "            power_cost = -torch.sum(p)\n",
    "\n",
    "            # sum over samples in batch\n",
    "            opt_loss += power_cost / torch.sum(active_turbs)\n",
    "\n",
    "        # normalize loss by batch size\n",
    "        opt_loss /= batch_size\n",
    "\n",
    "        # backward pass\n",
    "        opt.zero_grad()\n",
    "        opt_loss.backward()\n",
    "        opt.step()\n",
    "        \n",
    "        # save losses\n",
    "        opt_losses.append(opt_loss.detach().numpy())\n",
    "\n",
    "        # calculate and record power over validation set \n",
    "        # using control actions from updated DPC policy\n",
    "        test_power(floris_pt, model, ws_validation, wd_validation, powers_validation, \\\n",
    "               x_coord, y_coord, z_coord, ws_max, active_turbs_all=active_turbs_validation)\n",
    "        \n",
    "        # uncomment to track progress during training\n",
    "#         if (batch+1) % 10 == 0:\n",
    "#             print(\"batch: %d/%d.\"%(batch+1, N_batches))\n",
    "#             plt.plot(np.array(powers_validation[0])-powers_validation[0][0], \\\n",
    "#                      color='tab:blue', linestyle='-', linewidth=3)\n",
    "#             plt.plot(np.array(powers_validation[1])-powers_validation[1][0], \\\n",
    "#                      color='tab:orange', linestyle='--', linewidth=3)\n",
    "#             plt.plot(np.array(powers_validation[2])-powers_validation[2][0], \\\n",
    "#                      color='tab:green', linestyle=':', linewidth=3)\n",
    "#             plt.plot(np.array(powers_validation[3])-powers_validation[3][0], \\\n",
    "#                      color='tab:purple', linestyle=':', linewidth=3)\n",
    "#             plt.xlabel('batch')\n",
    "#             plt.ylabel('avg power over test set (kW)')\n",
    "#             fig = plt.gcf()\n",
    "#             fig.set_size_inches(12,6)\n",
    "#             plt.show()"
   ]
  },
  {
   "cell_type": "markdown",
   "id": "3ed1f2ee",
   "metadata": {},
   "source": [
    "### FLORIS data"
   ]
  },
  {
   "cell_type": "code",
   "execution_count": 5,
   "id": "4d1e21e1",
   "metadata": {},
   "outputs": [],
   "source": [
    "# ws =[3, 4, 5, 6, 7, 8]\n",
    "# validaton ws=[4, 6, 8]\n",
    "\n",
    "### 9 turbines ###\n",
    "\n",
    "yaw_9t = [np.array([20.31, 20.31, 0., \n",
    "                       18.75, 18.75, 0., \n",
    "                       20.31, 18.75, 0.]),\n",
    "          np.array([15.63, 18.75, 0.,\n",
    "                    15.63, 18.75, 0.,\n",
    "                    15.63, 18.75, 0.   ]),\n",
    "          np.array([18.75, 20.31, 0.,\n",
    "                    15.6, 20.31, 0.,\n",
    "                    18.75, 20.31, 0.]),\n",
    "          np.array([15.63, 21.88, 0.,\n",
    "                    15.63, 18.75, 0.,\n",
    "                    15.63, 18.75, 0.]),\n",
    "          np.array([15.63, 20.31, 0., \n",
    "                    15.63, 18.75, 0.,\n",
    "                    15.63, 18.75, 0.]),\n",
    "          np.array([7.81, 6.25, 0., \n",
    "                    7.81, 6.25, 0.,\n",
    "                    7.8125, 6.25, 0.])]\n",
    "\n",
    "p_FLORIS_9t = np.array([12860.81, 8529.32, 5248.17, 2816.35, 1189.24, 212.07])\n",
    "p_baseline_9t = np.array([11570.69, 7604.86, 4592.45, 2426.84, 981.51, 188.34])    \n",
    "p_FLORIS_validation_9t = np.array([12860.81, 5248.17, 1189.24])\n",
    "                      \n",
    "### 8 turbines ###\n",
    "yaw_8t = [np.array([20.31, 20.31, 0.,\n",
    "                 20.31, 18.75, 0.,\n",
    "                 18.75, 0.]), \n",
    "          np.array([15.63, 18.75, 0.,\n",
    "                    15.63, 18.75, 0.,\n",
    "                    18.75, 0.]),\n",
    "          np.array([18.75, 20.31, 0.,\n",
    "                    18.75, 20.31, 0.,\n",
    "                    18.75, 0.]),\n",
    "          np.array([15.63, 21.88, 0.,\n",
    "                    15.63, 18.75, 0.,\n",
    "                    20.31, 0.]),\n",
    "          np.array([15.63, 20.31, 0.,\n",
    "                    15.63, 18.75, 0.,\n",
    "                    20.31, 0.]),\n",
    "          np.array([7.81, 6.25, 0., \n",
    "                    7.81, 6.25, 0.,\n",
    "                    20.31, 0.])]\n",
    "p_FLORIS_8t = np.array([11571.26, 7687.48, 4740.22, 2548.53, 1081.40, 195.62])\n",
    "p_baseline_8t = np.array([10468.81, 6888.82, 4164.31, 2204.15, 893.72, 161.56])\n",
    "p_FLORIS_validation_8t = np.array([11571.26, 4740.22, 1081.40])\n",
    "\n",
    "    \n",
    "### 7 turbines ###\n",
    "yaw_7t = [np.array([20.31, 20.31, 0., \n",
    "                    20.31, 18.75, 0., \n",
    "                    0.]),\n",
    "          np.array([15.63, 18.75, 0.,\n",
    "                    15.63, 18.75, 0., \n",
    "                    0.]),\n",
    "          np.array([18.75, 20.31, 0.,\n",
    "                    18.75, 20.31, 0.,\n",
    "                    0.]),\n",
    "          np.array([15.63, 21.88, 0.,\n",
    "                    15.63, 18.75, 0.,\n",
    "                    0.]),\n",
    "          np.array([15.63, 20.31, 0.,\n",
    "                    15.63, 18.75, 0.,\n",
    "                    0.]),\n",
    "          np.array([7.81, 6.25, 0.,\n",
    "                    7.81, 6.25, 0.,\n",
    "                    0.])] \n",
    "p_FLORIS_7t = np.array([10267.05, 6818.95, 4208.14, 2261.84, 961.89, 177.42])\n",
    "p_baseline_7t = np.array([9405.13, 6201.89, 3762.19, 2001.59, 822.94, 161.56])\n",
    "p_FLORIS_validation_7t = np.array([10267.05, 4208.14, 961.89])\n",
    "\n",
    "### 6 turbines ###\n",
    "yaw_6t = [np.array([20.31, 20.31, 0.,\n",
    "                    18.75, 0.,\n",
    "                    0.]),\n",
    "          np.array([15.63, 18.75, 0.,\n",
    "                    18.75, 0.,\n",
    "                    0.]),\n",
    "          np.array([18.75, 20.31, 0.,\n",
    "                    18.75, 0.,\n",
    "                    0.]),\n",
    "          np.array([15.63, 21.88, 0.,\n",
    "                    20.31, 0.,\n",
    "                    0.]),\n",
    "          np.array([15.63, 20.31, 0.,\n",
    "                    20.31, 0.,\n",
    "                    0.]),\n",
    "          np.array([7.81, 6.25, 0.,\n",
    "                    20.31, 0.,\n",
    "                    0.])]\n",
    "p_FLORIS_6t = np.array([8978.01, 5977.10, 3689.03, 1994.01, 854.04, 160.97])\n",
    "p_baseline_6t = np.array([8303.25, 5485.85, 3334.04, 1778.90, 735.15, 134.79])\n",
    "p_FLORIS_validation_6t = np.array([8978.01, 3689.03, 854.04])"
   ]
  },
  {
   "cell_type": "markdown",
   "id": "7256203e",
   "metadata": {},
   "source": [
    "### Training plot"
   ]
  },
  {
   "cell_type": "code",
   "execution_count": 6,
   "id": "445188a0",
   "metadata": {},
   "outputs": [
    {
     "data": {
      "image/png": "[encoded data removed]",
      "text/plain": [
       "<Figure size 864x432 with 1 Axes>"
      ]
     },
     "metadata": {
      "needs_background": "light"
     },
     "output_type": "display_data"
    }
   ],
   "source": [
    "plt.style.use('tableau-colorblind10')                                                          \n",
    "colors = plt.rcParams['axes.prop_cycle'].by_key()['color']\n",
    "\n",
    "plt.rcParams.update({'font.size': 20})\n",
    "plt.rc('lines', linewidth=3.0)\n",
    "\n",
    "linestyles = ['-', '--', ':', '-.']\n",
    "\n",
    "markerstyles = ['+', 'x', '*', 'o']\n",
    "marker_names = [\"DPC\", \"Opt.\", \"Lookup\", \"Baseline\"]\n",
    "\n",
    "plt.rcParams.update({'lines.markersize': 15})\n",
    "\n",
    "ps_FLORIS_validation = [p_FLORIS_validation_9t, p_FLORIS_validation_8t, \\\n",
    "                        p_FLORIS_validation_7t, p_FLORIS_validation_6t]\n",
    "\n",
    "for i in range(4):\n",
    "    nturbs_active = 9-i\n",
    "    plt.plot(np.array(np.array(powers_validation[i])/nturbs_active), label=str(nturbs_active), \n",
    "             color=colors[i], linestyle=linestyles[i], linewidth=3)\n",
    "    plt.axhline(np.mean(ps_FLORIS_validation[i])/nturbs_active, color=colors[i], linestyle=(0, (1, 10)), linewidth=3)\n",
    "    \n",
    "plt.legend(title=\"$N_t$\", prop={'size': 16})\n",
    "plt.xlabel('Batch')\n",
    "plt.ylabel('Avg. Loss')\n",
    "fig = plt.gcf()\n",
    "fig.set_size_inches(12,6)\n",
    "# plt.savefig('/Users/jani/Documents/research/windFarmControl/2023ACC/figures/training.png', \n",
    "#             bbox_inches='tight')\n",
    "plt.show()\n",
    "\n",
    "# Loss averaged over the wind speeds in the validation set\n",
    "# for each turbine status vector in the validation set, \n",
    "# labeled by the number of active turbines (6, 7, 8, or 9.)"
   ]
  },
  {
   "cell_type": "markdown",
   "id": "1e2571de",
   "metadata": {},
   "source": [
    "### Testing plots"
   ]
  },
  {
   "cell_type": "code",
   "execution_count": 7,
   "id": "6d927240",
   "metadata": {},
   "outputs": [],
   "source": [
    "ps_DPC = []\n",
    "\n",
    "for active_turbs in active_turbs_validation:\n",
    "    ps_t = []\n",
    "    for ws in torch.tensor([[8], [7], [6], [5], [4]]):\n",
    "        x_coord_rotated, y_coord_rotated, mesh_x_rotated, \\\n",
    "            mesh_y_rotated, mesh_z, inds_sorted, x_coord_active = \\\n",
    "            floris_pt.get_turbine_mesh(wd, x_coord, y_coord, z_coord, \\\n",
    "            active_turbs=active_turbs)\n",
    "\n",
    "        clipped_u_sorted, clipped_u, u = get_control(model, ws, wd, inds_sorted, \\\n",
    "            ws_max, active_turbs=active_turbs)\n",
    "\n",
    "        flow_field_u, yaw_angle = floris_pt.get_field_rotor(ws, wd, clipped_u_sorted, \\\n",
    "            x_coord_active, x_coord_rotated, y_coord_rotated, mesh_x_rotated, \\\n",
    "            mesh_y_rotated, mesh_z, inds_sorted)\n",
    "        \n",
    "        p = floris_pt.get_power(flow_field_u, x_coord_rotated, yaw_angle)\n",
    "        \n",
    "        ps_t.append(torch.sum(p).detach().numpy().flatten()[0])\n",
    "        \n",
    "    ps_DPC.append(np.array(ps_t))\n",
    "ps_DPC.reverse()"
   ]
  },
  {
   "cell_type": "code",
   "execution_count": 8,
   "id": "6a045c11",
   "metadata": {},
   "outputs": [
    {
     "data": {
      "image/png": "[encoded data removed]",
      "text/plain": [
       "<Figure size 864x432 with 1 Axes>"
      ]
     },
     "metadata": {
      "needs_background": "light"
     },
     "output_type": "display_data"
    }
   ],
   "source": [
    "ps_FLORIS = [p_FLORIS_6t[:-1], p_FLORIS_7t[:-1], p_FLORIS_8t[:-1], p_FLORIS_9t[:-1]]\n",
    "ps_baseline = [p_baseline_6t[:-1], p_baseline_7t[:-1], p_baseline_8t[:-1], p_baseline_9t[:-1]]\n",
    "\n",
    "nturbs_active = [6, 7, 8, 9]\n",
    "plt.scatter(nturbs_active, [np.mean(p) for p in ps_DPC], color=colors[0], \\\n",
    "            marker='x', label=\"DPC\")\n",
    "plt.scatter(nturbs_active, [np.mean(p) for p in ps_FLORIS], color=colors[1], \\\n",
    "            marker='+', label=\"optimal\")\n",
    "plt.scatter(nturbs_active, [np.mean(p) for p in ps_baseline], \\\n",
    "            marker='o', color=colors[3], label=\"baseline\")\n",
    "plt.xlabel(\"Active Turbines\")\n",
    "plt.ylabel(\"Power [kW]\")\n",
    "plt.legend()\n",
    "fig = plt.gcf()\n",
    "fig.set_size_inches(12,6)\n",
    "ax=plt.gca()\n",
    "plt.xticks(ticks=nturbs_active, labels=[str(nt) for nt in nturbs_active])\n",
    "# plt.savefig('/Users/jani/Documents/research/windFarmControl/2023ACC/figures/testing_Nt.png', \n",
    "#             bbox_inches='tight')\n",
    "plt.show()"
   ]
  },
  {
   "cell_type": "code",
   "execution_count": 9,
   "id": "e66374f6",
   "metadata": {},
   "outputs": [
    {
     "data": {
      "image/png": "[encoded data removed]",
      "text/plain": [
       "<Figure size 864x432 with 1 Axes>"
      ]
     },
     "metadata": {
      "needs_background": "light"
     },
     "output_type": "display_data"
    }
   ],
   "source": [
    "ws_plot =[4, 5, 6, 7, 8]\n",
    "def t_to_ws(ps_t):\n",
    "    ps_ws = np.zeros(len(ws_plot))\n",
    "    for ps in ps_t:\n",
    "        for i in range(len(ps)):\n",
    "            ps_ws[i] += ps[i]\n",
    "    ps_ws /= len(ws_plot)\n",
    "    return np.flip(ps_ws)\n",
    "\n",
    "ps_DPC_ws = t_to_ws(ps_DPC)\n",
    "ps_FLORIS_ws = t_to_ws(ps_FLORIS)\n",
    "ps_baseline_ws = t_to_ws(ps_baseline)\n",
    "\n",
    "\n",
    "plt.scatter(ws_plot, ps_DPC_ws, color=colors[0], marker='x', label=\"DPC\")\n",
    "plt.scatter(ws_plot, ps_FLORIS_ws, color=colors[1], marker='+', label=\"optimal\")\n",
    "plt.scatter(ws_plot, ps_baseline_ws, marker='o', color=colors[3], label=\"baseline\")\n",
    "plt.xlabel(\"Wind speed [m/s]\")\n",
    "plt.ylabel(\"Power [kW]\")\n",
    "plt.legend()\n",
    "fig = plt.gcf()\n",
    "fig.set_size_inches(12,6)\n",
    "plt.xticks(ticks=ws_plot, labels=[str(ws) for ws in ws_plot])\n",
    "# plt.savefig('/Users/jani/Documents/research/windFarmControl/2023ACC/figures/testing_u.png', \n",
    "#             bbox_inches='tight')\n",
    "plt.show()"
   ]
  },
  {
   "cell_type": "markdown",
   "id": "5d9d704d",
   "metadata": {},
   "source": [
    "### yaw plots"
   ]
  },
  {
   "cell_type": "code",
   "execution_count": 10,
   "id": "603b5d02",
   "metadata": {},
   "outputs": [
    {
     "data": {
      "image/png": "[encoded data removed]",
      "text/plain": [
       "<Figure size 864x432 with 1 Axes>"
      ]
     },
     "metadata": {
      "needs_background": "light"
     },
     "output_type": "display_data"
    }
   ],
   "source": [
    "ws_plot =[4, 5, 6, 7, 8]\n",
    "t1_9t_FLORIS = [yaw_9t_ws[7] for yaw_9t_ws in yaw_9t]\n",
    "t1_8t_FLORIS = [yaw_8t_ws[7] for yaw_8t_ws in yaw_8t]\n",
    "t1_9t_FLORIS.reverse()\n",
    "t1_8t_FLORIS.reverse()\n",
    "\n",
    "t1_9t_DPC = []\n",
    "active_turbs = active_turbs_validation[0]\n",
    "for ws in torch.tensor([[4], [5], [6], [7], [8]]):\n",
    "    x_coord_rotated, y_coord_rotated, mesh_x_rotated, \\\n",
    "        mesh_y_rotated, mesh_z, inds_sorted, x_coord_active = \\\n",
    "        floris_pt.get_turbine_mesh(wd, x_coord, y_coord, z_coord, \\\n",
    "        active_turbs=active_turbs)\n",
    "\n",
    "    _, clipped_u, _ = get_control(model, ws, wd, inds_sorted, \\\n",
    "        ws_max, active_turbs=active_turbs)\n",
    "    \n",
    "    t1_9t_DPC.append(clipped_u[7].detach().numpy())\n",
    "\n",
    "t1_8t_DPC = []\n",
    "active_turbs = active_turbs_validation[1]\n",
    "for ws in torch.tensor([[4], [5], [6], [7], [8]]):\n",
    "    x_coord_rotated, y_coord_rotated, mesh_x_rotated, \\\n",
    "        mesh_y_rotated, mesh_z, inds_sorted, x_coord_active = \\\n",
    "        floris_pt.get_turbine_mesh(wd, x_coord, y_coord, z_coord, \\\n",
    "        active_turbs=active_turbs)\n",
    "\n",
    "    _, clipped_u, _ = get_control(model, ws, wd, inds_sorted, \\\n",
    "        ws_max, active_turbs=active_turbs)\n",
    "    \n",
    "    t1_8t_DPC.append(clipped_u[7].detach().numpy())\n",
    "    \n",
    "plt.scatter(ws_plot, t1_9t_DPC, color=colors[0], marker='x', label=\"DPC, 9\")\n",
    "plt.scatter(ws_plot, t1_8t_DPC, color=colors[4], marker='o', label=\"DPC, 8\")\n",
    "plt.scatter(ws_plot, t1_9t_FLORIS[1:], color=colors[1], marker='+', label=\"optimal, 9\")\n",
    "plt.scatter(ws_plot, t1_8t_FLORIS[1:], color=colors[5], marker='.', label=\"optimal, 8\")\n",
    "plt.xlabel(\"Wind speed [m/s]\")\n",
    "plt.ylabel(r'yaw $[^{\\circ}]$')\n",
    "plt.legend()\n",
    "fig = plt.gcf()\n",
    "fig.set_size_inches(12,6)\n",
    "plt.xticks(ticks=ws_plot, labels=[str(ws) for ws in ws_plot])\n",
    "# plt.savefig('/Users/jani/Documents/research/windFarmControl/2023ACC/figures/yaw_t1.png', \n",
    "#             bbox_inches='tight')\n",
    "plt.show()"
   ]
  },
  {
   "cell_type": "code",
   "execution_count": 11,
   "id": "893a2263",
   "metadata": {},
   "outputs": [
    {
     "data": {
      "text/plain": [
       "array([-0.69458008, -0.70482254, -2.28548866, -0.85741806, -1.03929138,\n",
       "        2.08350253,  1.98150969,  1.89525855,  1.81153178,  1.73042774])"
      ]
     },
     "execution_count": 11,
     "metadata": {},
     "output_type": "execute_result"
    }
   ],
   "source": [
    "np.append(np.array(t1_9t_DPC) - np.array(t1_9t_FLORIS[1:]), \n",
    "                  np.array(t1_8t_DPC) - np.array(t1_8t_FLORIS[1:]))"
   ]
  },
  {
   "cell_type": "code",
   "execution_count": 12,
   "id": "7015749a",
   "metadata": {},
   "outputs": [
    {
     "data": {
      "image/png": "[encoded data removed]",
      "text/plain": [
       "<Figure size 864x432 with 1 Axes>"
      ]
     },
     "metadata": {
      "needs_background": "light"
     },
     "output_type": "display_data"
    }
   ],
   "source": [
    "ws_plot =[4, 5, 6, 7, 8]\n",
    "t2_9t_FLORIS = [yaw_9t_ws[4] for yaw_9t_ws in yaw_9t]\n",
    "t2_8t_FLORIS = [yaw_8t_ws[4] for yaw_8t_ws in yaw_8t]\n",
    "t2_9t_FLORIS.reverse()\n",
    "t2_8t_FLORIS.reverse()\n",
    "\n",
    "t2_9t_DPC = []\n",
    "active_turbs = active_turbs_validation[0]\n",
    "for ws in torch.tensor([[4], [5], [6], [7], [8]]):\n",
    "    x_coord_rotated, y_coord_rotated, mesh_x_rotated, \\\n",
    "        mesh_y_rotated, mesh_z, inds_sorted, x_coord_active = \\\n",
    "        floris_pt.get_turbine_mesh(wd, x_coord, y_coord, z_coord, \\\n",
    "        active_turbs=active_turbs)\n",
    "\n",
    "    _, clipped_u, _ = get_control(model, ws, wd, inds_sorted, \\\n",
    "    ws_max, active_turbs=active_turbs)\n",
    "    \n",
    "    t2_9t_DPC.append(clipped_u[4].detach().numpy())\n",
    "\n",
    "t2_8t_DPC = []\n",
    "active_turbs = active_turbs_validation[1]\n",
    "for ws in torch.tensor([[4], [5], [6], [7], [8]]):\n",
    "    x_coord_rotated, y_coord_rotated, mesh_x_rotated, \\\n",
    "        mesh_y_rotated, mesh_z, inds_sorted, x_coord_active = \\\n",
    "        floris_pt.get_turbine_mesh(wd, x_coord, y_coord, z_coord, \\\n",
    "        active_turbs=active_turbs)\n",
    "\n",
    "    _, clipped_u, _ = get_control(model, ws, wd, inds_sorted, \\\n",
    "    ws_max, active_turbs=active_turbs)\n",
    "    \n",
    "    t2_8t_DPC.append(clipped_u[4].detach().numpy())\n",
    "    \n",
    "plt.scatter(ws_plot, t2_9t_DPC, color=colors[0], marker='x', label=\"DPC, 9\")\n",
    "plt.scatter(ws_plot, t2_8t_DPC, color=colors[4], marker='o', label=\"DPC, 8\")\n",
    "plt.scatter(ws_plot, t2_9t_FLORIS[1:], color=colors[1], marker='+', label=\"optimal, 9\")\n",
    "plt.scatter(ws_plot, t2_8t_FLORIS[1:], color=colors[5], marker='.', label=\"optimal, 8\")\n",
    "plt.xlabel(\"Wind speed [m/s]\")\n",
    "plt.ylabel(r'yaw $[^{\\circ}]$')\n",
    "plt.legend()\n",
    "fig = plt.gcf()\n",
    "fig.set_size_inches(12,6)\n",
    "plt.xticks(ticks=ws_plot, labels=[str(ws) for ws in ws_plot])\n",
    "# plt.savefig('/Users/jani/Documents/research/windFarmControl/2023ACC/figures/yaw_t2.png', \n",
    "#             bbox_inches='tight')\n",
    "plt.show()"
   ]
  },
  {
   "cell_type": "code",
   "execution_count": 13,
   "id": "09bac60a",
   "metadata": {},
   "outputs": [
    {
     "data": {
      "text/plain": [
       "array(18.490536, dtype=float32)"
      ]
     },
     "execution_count": 13,
     "metadata": {},
     "output_type": "execute_result"
    }
   ],
   "source": [
    "t2_9t_DPC[2]"
   ]
  },
  {
   "cell_type": "code",
   "execution_count": 14,
   "id": "3a9e8dae",
   "metadata": {},
   "outputs": [
    {
     "data": {
      "text/plain": [
       "array([ 0.26450348,  0.01305962, -1.81946426, -0.57687378, -0.90939331,\n",
       "        0.39430809,  0.15209579, -1.7069841 , -0.42311478, -0.69802284])"
      ]
     },
     "execution_count": 14,
     "metadata": {},
     "output_type": "execute_result"
    }
   ],
   "source": [
    "np.append(np.array(t2_9t_DPC) - np.array(t2_9t_FLORIS[1:]), \n",
    "                  np.array(t2_8t_DPC) - np.array(t2_8t_FLORIS[1:]))"
   ]
  },
  {
   "cell_type": "code",
   "execution_count": 15,
   "id": "d6f90c49",
   "metadata": {},
   "outputs": [
    {
     "name": "stdout",
     "output_type": "stream",
     "text": [
      "clipped u:  [18.75 20.31  0.   15.6  20.31  0.   18.75 20.31  0.  ]\n",
      "power:  5248.3\n",
      "\n",
      "clipped u:  [18.75 20.31  0.   15.6  18.45  0.   18.75 20.31  0.  ]\n",
      "power:  5247.8\n",
      "\n",
      "clipped u:  [18.75 20.31  0.   15.6   0.    0.   18.75 20.31  0.  ]\n",
      "power:  5172.1\n",
      "\n"
     ]
    }
   ],
   "source": [
    "wd = torch.tensor([wd_fixed])\n",
    "ws = torch.tensor([6.])\n",
    "active_turbs = torch.tensor([True, True, True,\n",
    "                             True, True, True,\n",
    "                             True, True, True])\n",
    "\n",
    "x_coord_rotated, y_coord_rotated, mesh_x_rotated, \\\n",
    "    mesh_y_rotated, mesh_z, inds_sorted, x_coord_active = \\\n",
    "    floris_pt.get_turbine_mesh(wd, x_coord, y_coord, z_coord, \\\n",
    "        active_turbs=active_turbs)    \n",
    "\n",
    "clipped_u = torch.tensor(yaw_9t[2])\n",
    "clipped_u_sorted = clipped_u[inds_sorted.flatten()]\n",
    "print(\"clipped u: \", np.round(clipped_u.detach().numpy(), 2))\n",
    "flow_field_u, yaw_angle = floris_pt.get_field_rotor(ws, wd, clipped_u_sorted, \\\n",
    "    x_coord_active, x_coord_rotated, y_coord_rotated, mesh_x_rotated, \\\n",
    "    mesh_y_rotated, mesh_z, inds_sorted)\n",
    "p1 = floris_pt.get_power(flow_field_u, x_coord_rotated, yaw_angle)\n",
    "print(\"power: \", np.round(torch.sum(p1).detach().numpy(), 1))\n",
    "print(\"\")\n",
    "\n",
    "yaw_9t_alt = yaw_9t[2].copy()\n",
    "yaw_9t_alt[4]=18.45\n",
    "clipped_u = torch.tensor(yaw_9t_alt)\n",
    "clipped_u_sorted = clipped_u[inds_sorted.flatten()]\n",
    "print(\"clipped u: \", np.round(clipped_u.detach().numpy(), 2))\n",
    "flow_field_u, yaw_angle = floris_pt.get_field_rotor(ws, wd, clipped_u_sorted, \\\n",
    "    x_coord_active, x_coord_rotated, y_coord_rotated, mesh_x_rotated, \\\n",
    "    mesh_y_rotated, mesh_z, inds_sorted)\n",
    "p2 = floris_pt.get_power(flow_field_u, x_coord_rotated, yaw_angle)\n",
    "print(\"power: \", np.round(torch.sum(p2).detach().numpy(), 1))\n",
    "print(\"\")\n",
    "\n",
    "yaw_9t_alt0 = yaw_9t[2].copy()\n",
    "yaw_9t_alt0[4]=0.\n",
    "clipped_u = torch.tensor(yaw_9t_alt0)\n",
    "clipped_u_sorted = clipped_u[inds_sorted.flatten()]\n",
    "print(\"clipped u: \", np.round(clipped_u.detach().numpy(), 2))\n",
    "flow_field_u, yaw_angle = floris_pt.get_field_rotor(ws, wd, clipped_u_sorted, \\\n",
    "    x_coord_active, x_coord_rotated, y_coord_rotated, mesh_x_rotated, \\\n",
    "    mesh_y_rotated, mesh_z, inds_sorted)\n",
    "p3 = floris_pt.get_power(flow_field_u, x_coord_rotated, yaw_angle)\n",
    "print(\"power: \", np.round(torch.sum(p3).detach().numpy(), 1))\n",
    "print(\"\")"
   ]
  },
  {
   "cell_type": "code",
   "execution_count": 16,
   "id": "79521d5a",
   "metadata": {},
   "outputs": [
    {
     "data": {
      "text/plain": [
       "tensor(0.0085, dtype=torch.float64)"
      ]
     },
     "execution_count": 16,
     "metadata": {},
     "output_type": "execute_result"
    }
   ],
   "source": [
    "(torch.sum(p1) - torch.sum(p2))/torch.sum(p1)*100"
   ]
  },
  {
   "cell_type": "code",
   "execution_count": 17,
   "id": "8c76fb35",
   "metadata": {},
   "outputs": [
    {
     "data": {
      "text/plain": [
       "tensor(1.4520, dtype=torch.float64)"
      ]
     },
     "execution_count": 17,
     "metadata": {},
     "output_type": "execute_result"
    }
   ],
   "source": [
    "(torch.sum(p1) - torch.sum(p3))/torch.sum(p1)*100"
   ]
  }
 ],
 "metadata": {
  "kernelspec": {
   "display_name": "Python 3 (ipykernel)",
   "language": "python",
   "name": "python3"
  },
  "language_info": {
   "codemirror_mode": {
    "name": "ipython",
    "version": 3
   },
   "file_extension": ".py",
   "mimetype": "text/x-python",
   "name": "python",
   "nbconvert_exporter": "python",
   "pygments_lexer": "ipython3",
   "version": "3.10.5"
  }
 },
 "nbformat": 4,
 "nbformat_minor": 5
}
