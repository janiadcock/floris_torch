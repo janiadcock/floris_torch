{
 "cells": [
  {
   "cell_type": "code",
   "execution_count": 1,
   "id": "2682f6ca",
   "metadata": {},
   "outputs": [],
   "source": [
    "from DC import DCModel\n",
    "from FLORIS_PT import FLORIS_PT\n",
    "import torch\n",
    "import torch.nn.functional as F\n",
    "import numpy as np\n",
    "import matplotlib.pyplot as plt\n",
    "import matplotlib as mpl\n",
    "import matplotlib.colors as mplcolors\n",
    "import copy\n",
    "import time\n",
    "plt.rcParams.update({'font.size': 16})"
   ]
  },
  {
   "cell_type": "markdown",
   "id": "773792a7",
   "metadata": {},
   "source": [
    "### Inputs"
   ]
  },
  {
   "cell_type": "code",
   "execution_count": 2,
   "id": "496ca421",
   "metadata": {},
   "outputs": [],
   "source": [
    "# input files to define turbine type, wind conditions, and FLORIS model parameters\n",
    "input_file_path = \"./inputs.yaml\"\n",
    "floris_pt = FLORIS_PT(input_file_path)\n",
    "\n",
    "# wind farm layout\n",
    "D = floris_pt.turbine['rotor_diameter']\n",
    "x_coord = torch.tensor([0., 6.*D, 12.*D,\n",
    "                        0., 6.*D, 12.*D,\n",
    "                        0., 6.*D, 12.*D])\n",
    "            \n",
    "y_coord = torch.tensor([6.*D, 6.*D, 6.*D,\n",
    "                        3.*D, 3.*D, 3.*D,\n",
    "                        0., 0., 0., ])\n",
    "z_hh = floris_pt.turbine['hub_height']\n",
    "nturbs = len(x_coord)\n",
    "z_coord = torch.tensor([z_hh] * nturbs)\n",
    "\n",
    "# dropout\n",
    "dropout=True\n",
    "active_prob = .5 # probability turbine is active during training\n",
    "\n",
    "# set bounds on allowed yaw angle\n",
    "# umin 0 by default (controlled by sigmoid)\n",
    "umax = torch.tensor([25.0]) # maximum allowed yaw angle (degrees)\n",
    "umin = torch.tensor([-25.0]) # minimum allowed yaw angle (degrees)\n",
    "\n",
    "# hyperparameters\n",
    "lr = .00025\n",
    "batch_size = 50\n",
    "N_batches = 50\n",
    "N_epochs = 10\n",
    "hidden_dim = 128\n",
    "\n",
    "# neural network parameters\n",
    "model_config = dict({\"n_turbines\": nturbs, \n",
    "                     \"hidden_dim\": hidden_dim, \n",
    "                     \"dropout\": dropout})\n",
    "\n",
    "# generate training data\n",
    "# ws from [ws_min, ws_max]; m/s\n",
    "# ws_max = 8.0\n",
    "ws_max = 11.4\n",
    "ws_min = 3.0\n",
    "ws_training = torch.rand((N_batches, batch_size, 1)) * (ws_max - ws_min) + ws_min \n",
    "wd_fixed = 275.\n",
    "wd_training = wd_fixed * torch.ones(N_batches, batch_size, 1)\n",
    "\n",
    "# number of turbines active\n",
    "active_turbs_training = torch.rand((N_batches, batch_size, nturbs)) < active_prob\n",
    "# ensure at least 1 turbine is active\n",
    "for batch in range(N_batches):\n",
    "    for sample in range(batch_size):\n",
    "        active_turbs= active_turbs_training[batch, sample, :]\n",
    "        while torch.all(active_turbs == torch.tensor([False] * nturbs)):\n",
    "            active_turbs_training[batch, sample, :] = torch.rand(nturbs) < active_prob\n",
    "\n",
    "# pick validation set\n",
    "ws_validation = torch.tensor([4., 6., 8., 10.]) # m/s\n",
    "wd_validation = torch.tensor([wd_fixed]) # degrees\n",
    "active_turbs_validation = torch.tensor([[True, True, True, \n",
    "                                         True, True, True, \n",
    "                                         True, True, True], \n",
    "                                        [True, True, True, \n",
    "                                         True, True, True, \n",
    "                                         True, True, False],\n",
    "                                        [True, True, True, \n",
    "                                         True, True, True, \n",
    "                                         True, False, False],\n",
    "                                        [True, True, True, \n",
    "                                         True, True, False, \n",
    "                                         True, False, False]])"
   ]
  },
  {
   "cell_type": "markdown",
   "id": "ea008143",
   "metadata": {},
   "source": [
    "### Helper functions to apply DC to FLORIS-PT"
   ]
  },
  {
   "cell_type": "code",
   "execution_count": 3,
   "id": "5f0494ac",
   "metadata": {},
   "outputs": [],
   "source": [
    "# get control action from DC model\n",
    "def get_control(model, ws, inds_sorted, ws_min, ws_max, active_turbs=None):\n",
    "    # normalize features to range [0,1]\n",
    "    ws_rep = ws.unsqueeze(dim=1)\n",
    "    ws_norm = (ws_rep - ws_min)/(ws_max - ws_min)\n",
    "    x = torch.cat([ws_norm, active_turbs], axis=1)\n",
    "    u = model(x)\n",
    "    scaled_u = torch.clone(u)*(umax-umin)+umin\n",
    "    if active_turbs is not None:\n",
    "        scaled_u = torch.where(active_turbs,scaled_u,torch.tensor(0.))\n",
    "    scaled_u = torch.reshape(scaled_u, (x.shape[0], nturbs, 1, 1)) # unflatten\n",
    "    scaled_u_sorted = torch.take_along_dim(scaled_u, inds_sorted, axis=1) # sort\n",
    "    return scaled_u_sorted, scaled_u, u\n",
    "\n",
    "# calculate average power over list of wind speeds\n",
    "# modifies powers list to add this average power\n",
    "def test_power(floris_pt, model, ws_validation, wd_validation, powers_plot, \\\n",
    "    powers_validation, x_coord, y_coord, z_coord, ws_max, wd_max=360., active_turbs_validation=None):\n",
    "    \n",
    "    power_validation = 0.\n",
    "    \n",
    "    N = len(active_turbs_validation)\n",
    "    for i in range(N):\n",
    "        ws = ws_validation\n",
    "        wd = wd_validation.repeat(ws_validation.shape[0])\n",
    "        active_turbs = active_turbs_validation[i].repeat(ws_validation.shape[0], 1)\n",
    "\n",
    "        # generate mesh on turbine rotor\n",
    "        x_coord_rotated, y_coord_rotated, mesh_x_rotated, \\\n",
    "            mesh_y_rotated, mesh_z, inds_sorted = \\\n",
    "            floris_pt.get_turbine_mesh(wd, x_coord, y_coord, z_coord)\n",
    "\n",
    "        # sort active turbines\n",
    "        active_turbs_sorted = torch.take_along_dim(\n",
    "            active_turbs.unsqueeze(-1).unsqueeze(-1), inds_sorted, axis=1)\n",
    "\n",
    "        # get control action\n",
    "        scaled_u_sorted, _, u = get_control(model, ws, inds_sorted, ws_min, ws_max, \\\n",
    "            active_turbs=active_turbs)\n",
    "\n",
    "        # calculate field on rotor mesh\n",
    "        flow_field_u, yaw_angle = floris_pt.get_field_rotor(ws, scaled_u_sorted, \\\n",
    "            x_coord_rotated, y_coord_rotated, mesh_x_rotated, \\\n",
    "            mesh_y_rotated, mesh_z, inds_sorted, active_turbs_sorted=active_turbs_sorted)\n",
    "\n",
    "        # calculate turbine power\n",
    "        p = floris_pt.get_power(flow_field_u, x_coord_rotated, yaw_angle, \\\n",
    "            active_turbs_sorted=active_turbs_sorted)\n",
    "\n",
    "        # add farm power\n",
    "        farm_power = torch.sum(p, dim=(1)) # sum over turbines\n",
    "        farm_power_mean = torch.mean(farm_power).item()\n",
    "        powers_plot[i].append(farm_power_mean)\n",
    "        \n",
    "        power_validation += farm_power_mean\n",
    "        \n",
    "    powers_validation.append(power_validation/N)"
   ]
  },
  {
   "cell_type": "markdown",
   "id": "ab68e0b2",
   "metadata": {},
   "source": [
    "### Training"
   ]
  },
  {
   "cell_type": "code",
   "execution_count": 4,
   "id": "91005fa1",
   "metadata": {
    "scrolled": true
   },
   "outputs": [],
   "source": [
    "t0 = time.time()\n",
    "\n",
    "# initialize DC model\n",
    "model = DCModel(**model_config)\n",
    "\n",
    "# initialize optimizer used for training\n",
    "opt = torch.optim.Adam(model.parameters(), lr=lr)\n",
    "\n",
    "# vectors to track training progress\n",
    "opt_losses = []\n",
    "powers_plot = [[] for i in range(len(active_turbs_validation))]\n",
    "powers_validation = []\n",
    "\n",
    "# calculate and record power over validation set \n",
    "# using control actions from untrained DC policy\n",
    "test_power(floris_pt, model, ws_validation, wd_validation, powers_plot, powers_validation, \\\n",
    "           x_coord, y_coord, z_coord, ws_max, active_turbs_validation=active_turbs_validation)\n",
    "\n",
    "power_best = powers_validation[-1]\n",
    "model_best = copy.deepcopy(model)\n",
    "\n",
    "for epoch in range(N_epochs):\n",
    "    # reorder samples to randomize data in batches\n",
    "    perm_i = torch.randperm(N_batches)\n",
    "    perm_j = torch.randperm(batch_size)\n",
    "    ws_training_ij = ws_training[perm_i][:,perm_j]\n",
    "    wd_training_ij = wd_training[perm_i][:,perm_j]\n",
    "    active_turbs_training_ij = active_turbs_training[perm_i][:,perm_j]\n",
    "\n",
    "    for batch in range(N_batches):\n",
    "        opt_loss = 0.\n",
    "\n",
    "        # forward pass\n",
    "        ws = ws_training_ij[batch, :].squeeze(dim=1)\n",
    "        wd = wd_training_ij[batch, :].squeeze(dim=1)\n",
    "        active_turbs = active_turbs_training_ij[batch, :]\n",
    "\n",
    "        # generate mesh on turbine rotor\n",
    "        x_coord_rotated, y_coord_rotated, mesh_x_rotated, \\\n",
    "            mesh_y_rotated, mesh_z, inds_sorted = \\\n",
    "            floris_pt.get_turbine_mesh(wd, x_coord, y_coord, z_coord)\n",
    "\n",
    "        # sort active turbines\n",
    "        active_turbs_sorted = torch.take_along_dim(\n",
    "            active_turbs.unsqueeze(-1).unsqueeze(-1), inds_sorted, axis=1)\n",
    "\n",
    "        # get control action\n",
    "        scaled_u_sorted, _, u = get_control(model, ws, inds_sorted, ws_min, ws_max, \\\n",
    "            active_turbs=active_turbs)\n",
    "\n",
    "        # calculate field on rotor mesh\n",
    "        flow_field_u, yaw_angle = floris_pt.get_field_rotor(ws, scaled_u_sorted, \\\n",
    "            x_coord_rotated, y_coord_rotated, mesh_x_rotated, \\\n",
    "            mesh_y_rotated, mesh_z, inds_sorted, active_turbs_sorted=active_turbs_sorted)\n",
    "\n",
    "        # calculate turbine power\n",
    "        p = floris_pt.get_power(flow_field_u, x_coord_rotated, yaw_angle, \\\n",
    "            active_turbs_sorted=active_turbs_sorted)\n",
    "\n",
    "        # negative farm power (negative b/c optimizer minimizes loss)\n",
    "        power_cost = -torch.sum(p)\n",
    "\n",
    "        # sum over samples in batch\n",
    "        opt_loss += power_cost / torch.sum(active_turbs)\n",
    "\n",
    "        # normalize loss by batch size\n",
    "        opt_loss /= batch_size\n",
    "\n",
    "        # backward pass\n",
    "        opt.zero_grad()\n",
    "        opt_loss.backward()\n",
    "        opt.step()\n",
    "\n",
    "        # save losses\n",
    "        opt_losses.append(opt_loss.detach().numpy())\n",
    "\n",
    "        # calculate and record power over validation set \n",
    "        # using control actions from updated DC policy\n",
    "        test_power(floris_pt, model, ws_validation, wd_validation, powers_plot, powers_validation, \\\n",
    "                   x_coord, y_coord, z_coord, ws_max, active_turbs_validation=active_turbs_validation)\n",
    "       \n",
    "        # save best model\n",
    "        power_validation = powers_validation[-1]\n",
    "        if power_validation > power_best:\n",
    "            power_best = power_validation\n",
    "            model_best = copy.deepcopy(model)\n",
    "            \n",
    "        # uncomment to track progress during training\n",
    "        nturbs_active = torch.sum(active_turbs_validation,axis=1)\n",
    "#         if (batch+1) % 50 == 0:\n",
    "#             print(\"batch: %d/%d.\"%(batch+1, N_batches))\n",
    "#             plt.plot(np.array(powers_plot[0])/nturbs_active[0], \\\n",
    "#                      color='tab:blue', linestyle='-', linewidth=3)\n",
    "#             plt.plot(np.array(powers_plot[1])/nturbs_active[1], \\\n",
    "#                      color='tab:orange', linestyle='--', linewidth=3)\n",
    "#             plt.plot(np.array(powers_plot[2])/nturbs_active[2], \\\n",
    "#                      color='tab:green', linestyle=':', linewidth=3)\n",
    "#             plt.plot(np.array(powers_plot[3])/nturbs_active[3], \\\n",
    "#                      color='tab:purple', linestyle=':', linewidth=3)\n",
    "#             plt.xlabel('batch')\n",
    "#             plt.ylabel('avg power over validation WSs (kW) \\n /number of active turbines')\n",
    "#             fig = plt.gcf()\n",
    "#             fig.set_size_inches(12,6)\n",
    "#             plt.show()\n",
    "            \n",
    "#             plt.plot(np.array(powers_validation), linewidth=3)\n",
    "#             plt.xlabel('batch')\n",
    "#             plt.ylabel('avg power over validation set (kW)')\n",
    "#             fig = plt.gcf()\n",
    "#             fig.set_size_inches(12,6)\n",
    "#             plt.show()\n",
    "            \n",
    "model = model_best\n",
    "\n",
    "runtime = time.time() - t0"
   ]
  },
  {
   "cell_type": "markdown",
   "id": "3ed1f2ee",
   "metadata": {},
   "source": [
    "### FLORIS data"
   ]
  },
  {
   "cell_type": "code",
   "execution_count": 5,
   "id": "aa8cebcd",
   "metadata": {},
   "outputs": [],
   "source": [
    "# ws =np.array([11, 10, 9, 8, 7, 6, 5, 4, 3]), \n",
    "# validaton ws=np.array([10, 8, 6, 4]), \n",
    "\n",
    "### 9 turbines ###\n",
    "yaw_9t = np.array([np.array([18.75, 18.75, 0., \n",
    "                             18.75, 18.75, 0., \n",
    "                             18.75, 18.75, 0.]), \n",
    "                   np.array([18.75, 18.75, 0., \n",
    "                             18.75, 18.75, 0., \n",
    "                             18.75, 18.75, 0.]), \n",
    "                   np.array([18.75, 18.75, 0., \n",
    "                             18.75, 18.75, 0., \n",
    "                             18.75, 18.75, 0.]), \n",
    "                   np.array([18.75, 18.75, 0., \n",
    "                             18.75, 18.75, 0., \n",
    "                             18.75, 18.75, 0.]), \n",
    "                   np.array([18.75, 20.3125, 0., \n",
    "                             18.75, 20.3125, 0., \n",
    "                             18.75, 20.3125, 0.]), \n",
    "                   np.array([18.75, 20.3125, 0., \n",
    "                             18.75, 20.3125, 0., \n",
    "                             18.75, 20.3125, 0.]), \n",
    "                   np.array([18.75, 20.3125, 0., \n",
    "                             18.75, 18.75, 0., \n",
    "                             18.75, 18.75, 0.]), \n",
    "                   np.array([18.75, 20.3125, 0.,\n",
    "                             18.75, 18.75, 0., \n",
    "                             18.75, 18.75, 0.]), \n",
    "                   np.array([15.625, 15.625, 0., \n",
    "                             15.625, 15.625, 0., \n",
    "                             15.625, 15.625, 0.])])\n",
    "\n",
    "p_FLORIS_9t = np.array([33222.45, 25029.76, 18271.57, 12859.93,  8577.85, \n",
    "                        5259.33, 2841.78, 1200.88, 213.18])\n",
    "p_baseline_9t = np.array([30259.45, 22738.12, 16559.19, 11570.69, 7604.86, \n",
    "                          4592.45, 2426.84, 981.51, 188.34])\n",
    "p_FLORIS_validation_9t = np.array([25029.76, 12859.93, 5259.33, 1200.88])\n",
    "                      \n",
    "### 8 turbines ###\n",
    "yaw_8t = np.array([np.array([18.75, 18.75, 0., \n",
    "                             18.75, 18.75, 0., \n",
    "                             18.75, 0.]), \n",
    "                   np.array([18.75, 18.75, 0., \n",
    "                             18.75, 18.75, 0., \n",
    "                             18.75, 0.]), \n",
    "                   np.array([18.75, 18.75, 0., \n",
    "                             18.75, 18.75, 0., \n",
    "                             18.75, 0.]), \n",
    "                   np.array([18.75, 18.75, 0., \n",
    "                             18.75, 18.75, 0., \n",
    "                             18.75, 0.]), \n",
    "                   np.array([18.75, 20.3125, 0., \n",
    "                             18.75, 20.3125, 0., \n",
    "                             18.75, 0.]), \n",
    "                   np.array([18.75, 20.3125, 0., \n",
    "                             18.75, 20.3125, 0., \n",
    "                             18.75, 0.]), \n",
    "                   np.array([18.75, 20.3125, 0., \n",
    "                             18.75, 18.75, 0., \n",
    "                             20.3125, 0.]), \n",
    "                   np.array([18.75, 20.3125, 0., \n",
    "                             18.75, 18.75, 0., \n",
    "                             20.3125, 0.]), \n",
    "                   np.array([15.625, 15.625, 0., \n",
    "                             15.625, 15.625, 0., \n",
    "                             20.3125, 0.])])\n",
    "\n",
    "p_FLORIS_8t = np.array([29888.16, 22525.44, 16441.59, 11570.43, 7720.73, \n",
    "                        4740.22, 2565.89, 1089.46, 196.51])\n",
    "p_baseline_8t = np.array([27356.18, 20547.34, 14966.04, 10468.81, 6888.82, \n",
    "                          4164.31, 2204.15, 893.72, 161.56])\n",
    "p_FLORIS_validation_8t = np.array([22525.44, 11570.43, 4740.22, 1089.46])\n",
    "\n",
    "### 7 turbines ### \n",
    "yaw_7t = np.array([np.array([18.75, 18.75, 0., \n",
    "                             18.75, 18.75, 0., \n",
    "                             0.]), \n",
    "                   np.array([18.75, 18.75, 0., \n",
    "                             18.75, 18.75, 0., \n",
    "                             0.]), \n",
    "                   np.array([18.75, 18.75, 0., \n",
    "                             18.75, 18.75, 0., \n",
    "                             0.]), \n",
    "                   np.array([18.75, 18.75, 0., \n",
    "                             18.75, 18.75, 0., \n",
    "                             0.]), \n",
    "                   np.array([18.75, 20.3125, 0., \n",
    "                             18.75, 20.3125, 0., \n",
    "                             0.]), \n",
    "                   np.array([18.75, 20.3125, 0., \n",
    "                             18.75, 20.3125, 0., \n",
    "                             0.]), \n",
    "                   np.array([18.75, 20.3125, 0., \n",
    "                             18.75, 18.75, 0., \n",
    "                             0.]), \n",
    "                   np.array([18.75, 20.3125, 0.,\n",
    "                             18.75, 18.75, 0., \n",
    "                             0.]),\n",
    "                   np.array([15.625, 15.625, 0., \n",
    "                             15.625, 15.625, 0., \n",
    "                             0.])]) \n",
    "\n",
    "p_FLORIS_7t = np.array([26513.94, 19986.76, 14590.75, 10266.22, 6852.2, \n",
    "                        4208.14, 2279.2, 969.95, 178.32])\n",
    "p_baseline_7t = np.array([24536.18, 18456.83, 13447.31, 9405.13, 6201.89, \n",
    "                          3762.19, 2001.59, 822.94, 161.56])\n",
    "p_FLORIS_validation_7t = np.array([19986.76, 10266.22, 4208.14, 969.95])\n",
    "\n",
    "### 6 turbines ###\n",
    "yaw_6t = np.array([np.array([18.75, 18.75, 0., \n",
    "                             18.75, 0., \n",
    "                             0.]), \n",
    "                   np.array([18.75, 18.75, 0., \n",
    "                             18.75, 0., \n",
    "                             0.]), \n",
    "                   np.array([18.75, 18.75, 0., \n",
    "                             18.75, 0., \n",
    "                             0.]), \n",
    "                   np.array([18.75, 18.75, 0., \n",
    "                             18.75, 0., \n",
    "                             0.]), \n",
    "                   np.array([18.75, 20.3125, 0., \n",
    "                             18.75, 0., \n",
    "                             0.]), \n",
    "                   np.array([18.75, 20.3125, 0., \n",
    "                             18.75, 0., \n",
    "                             0.]), \n",
    "                   np.array([18.75, 20.3125, 0., \n",
    "                             20.3125, 0.,\n",
    "                             0.]), \n",
    "                   np.array([18.75, 20.3125, 0., \n",
    "                             20.3125, 0., \n",
    "                             0.]), \n",
    "                   np.array([15.625, 15.625, 0., \n",
    "                             20.3125, 0., \n",
    "                             0.])])\n",
    "\n",
    "p_FLORIS_6t = np.array([23179.66, 17482.44, 12760.77, 8976.73, 5995.09, \n",
    "                        3689.03, 2003.31, 858.52, 161.65])\n",
    "p_baseline_6t = np.array([21632.91, 16266.05, 11854.16, 8303.25, 5485.85, \n",
    "                          3334.04, 1778.9, 735.15, 134.79])\n",
    "p_FLORIS_validation_6t = np.array([17482.44, 8976.73, 3689.03, 858.52])"
   ]
  },
  {
   "cell_type": "markdown",
   "id": "7256203e",
   "metadata": {},
   "source": [
    "### Training plot"
   ]
  },
  {
   "cell_type": "code",
   "execution_count": 6,
   "id": "445188a0",
   "metadata": {},
   "outputs": [
    {
     "data": {
      "image/png": "[encoded data removed]",
      "text/plain": [
       "<Figure size 864x432 with 1 Axes>"
      ]
     },
     "metadata": {
      "needs_background": "light"
     },
     "output_type": "display_data"
    }
   ],
   "source": [
    "plt.style.use('tableau-colorblind10')                                                          \n",
    "colors = plt.rcParams['axes.prop_cycle'].by_key()['color']\n",
    "\n",
    "plt.rcParams.update({'font.size': 20})\n",
    "plt.rc('lines', linewidth=3.0)\n",
    "\n",
    "linestyles = ['-', '--', ':', '-.']\n",
    "\n",
    "markerstyles = ['+', 'x', '*', 'o']\n",
    "marker_names = [\"DC\", \"Opt.\", \"Lookup\", \"Baseline\"]\n",
    "\n",
    "plt.rcParams.update({'lines.markersize': 15})\n",
    "\n",
    "ps_FLORIS_validation = [p_FLORIS_validation_9t, p_FLORIS_validation_8t, \\\n",
    "                        p_FLORIS_validation_7t, p_FLORIS_validation_6t]\n",
    "\n",
    "for i in range(4):\n",
    "    nturbs_active = 9-i\n",
    "    plt.plot(np.array(np.array(powers_plot[i])/nturbs_active), label=str(nturbs_active), \n",
    "             color=colors[i], linestyle=linestyles[i], linewidth=3)\n",
    "    plt.axhline(np.mean(ps_FLORIS_validation[i])/nturbs_active, color=colors[i], linestyle=(0, (1, 10)), linewidth=3)\n",
    "    \n",
    "plt.legend(title=\"$N_t$\", prop={'size': 16})\n",
    "plt.xlabel('Batch')\n",
    "plt.ylabel('Power')\n",
    "fig = plt.gcf()\n",
    "fig.set_size_inches(12,6)\n",
    "# plt.savefig('/Users/jani/Documents/research/windFarmControl/2023ACC/figures_resubmission/training.png', \n",
    "#              bbox_inches='tight')\n",
    "plt.show()\n",
    "\n",
    "# Loss averaged over the wind speeds in the validation set\n",
    "# for each turbine status vector in the validation set, \n",
    "# labeled by the number of active turbines (6, 7, 8, or 9.)"
   ]
  },
  {
   "cell_type": "markdown",
   "id": "1e2571de",
   "metadata": {},
   "source": [
    "### Testing plots"
   ]
  },
  {
   "cell_type": "code",
   "execution_count": 7,
   "id": "4fe15db6",
   "metadata": {},
   "outputs": [],
   "source": [
    "ws_plot =[3, 4, 5, 6, 7, 8, 9, 10, 11]\n",
    "ws_test = torch.tensor(ws_plot[::-1])"
   ]
  },
  {
   "cell_type": "code",
   "execution_count": 8,
   "id": "32444e73",
   "metadata": {},
   "outputs": [
    {
     "data": {
      "text/plain": [
       "[array([23187.121  , 17499.285  , 12761.611  ,  8978.018  ,  5990.439  ,\n",
       "         3686.4578 ,  2002.2025 ,   857.5019 ,   161.18935], dtype=float32),\n",
       " array([26517.225  , 19997.746  , 14597.8545 , 10263.08   ,  6847.283  ,\n",
       "         4205.325  ,  2278.4336 ,   969.3855 ,   178.09569], dtype=float32),\n",
       " array([29901.918  , 22545.672  , 16452.248  , 11570.33   ,  7714.094  ,\n",
       "         4736.771  ,  2564.5513 ,  1088.2837 ,   195.83537], dtype=float32),\n",
       " array([33228.016  , 25063.41   , 18286.459  , 12871.6    ,  8571.662  ,\n",
       "         5256.8223 ,  2842.2222 ,  1201.1707 ,   211.64836], dtype=float32)]"
      ]
     },
     "execution_count": 8,
     "metadata": {},
     "output_type": "execute_result"
    }
   ],
   "source": [
    "ps_DC = []\n",
    "\n",
    "for i in range(len(active_turbs_validation)):\n",
    "    ws = ws_test\n",
    "    wd = wd_validation.repeat(ws.shape[0])\n",
    "    active_turbs = active_turbs_validation[i].repeat(ws.shape[0], 1)\n",
    "\n",
    "    # generate mesh on turbine rotor\n",
    "    x_coord_rotated, y_coord_rotated, mesh_x_rotated, \\\n",
    "        mesh_y_rotated, mesh_z, inds_sorted = \\\n",
    "        floris_pt.get_turbine_mesh(wd, x_coord, y_coord, z_coord)\n",
    "\n",
    "    # sort active turbines\n",
    "    active_turbs_sorted = torch.take_along_dim(\n",
    "        active_turbs.unsqueeze(-1).unsqueeze(-1), inds_sorted, axis=1)\n",
    "\n",
    "    # get control action\n",
    "    scaled_u_sorted, _, u = get_control(model, ws, inds_sorted, ws_min, ws_max, \\\n",
    "        active_turbs=active_turbs)\n",
    "\n",
    "    # calculate field on rotor mesh\n",
    "    flow_field_u, yaw_angle = floris_pt.get_field_rotor(ws, scaled_u_sorted, \\\n",
    "        x_coord_rotated, y_coord_rotated, mesh_x_rotated, \\\n",
    "        mesh_y_rotated, mesh_z, inds_sorted, active_turbs_sorted=active_turbs_sorted)\n",
    "\n",
    "    # calculate turbine power\n",
    "    p = floris_pt.get_power(flow_field_u, x_coord_rotated, yaw_angle, \\\n",
    "        active_turbs_sorted=active_turbs_sorted)\n",
    "\n",
    "    farm_power = torch.sum(p, axis=1).detach().numpy()\n",
    "\n",
    "    ps_DC.append(farm_power)\n",
    "ps_DC.reverse()\n",
    "\n",
    "ps_DC"
   ]
  },
  {
   "cell_type": "code",
   "execution_count": 9,
   "id": "6a045c11",
   "metadata": {},
   "outputs": [
    {
     "data": {
      "image/png": "[encoded data removed]",
      "text/plain": [
       "<Figure size 864x432 with 1 Axes>"
      ]
     },
     "metadata": {
      "needs_background": "light"
     },
     "output_type": "display_data"
    }
   ],
   "source": [
    "ps_FLORIS = [p_FLORIS_6t, p_FLORIS_7t, p_FLORIS_8t, p_FLORIS_9t]\n",
    "ps_baseline = [p_baseline_6t, p_baseline_7t, p_baseline_8t, p_baseline_9t]\n",
    "\n",
    "nturbs_active = [6, 7, 8, 9]\n",
    "plt.scatter(nturbs_active, [np.mean(p) for p in ps_DC], color=colors[0], \\\n",
    "            marker='x', label=\"DC\")\n",
    "plt.scatter(nturbs_active, [np.mean(p) for p in ps_FLORIS], color=colors[1], \\\n",
    "            marker='+', label=\"optimal\")\n",
    "plt.scatter(nturbs_active, [np.mean(p) for p in ps_baseline], \\\n",
    "            marker='o', color=colors[3], label=\"baseline\")\n",
    "plt.xlabel(\"Active Turbines\")\n",
    "plt.ylabel(\"Power [kW]\")\n",
    "plt.legend()\n",
    "fig = plt.gcf()\n",
    "fig.set_size_inches(12,6)\n",
    "ax=plt.gca()\n",
    "plt.xticks(ticks=nturbs_active, labels=[str(nt) for nt in nturbs_active])\n",
    "# plt.savefig('/Users/jani/Documents/research/windFarmControl/2023ACC/figures_resubmission/testing_Nt.png', \n",
    "#              bbox_inches='tight')\n",
    "plt.show()"
   ]
  },
  {
   "cell_type": "code",
   "execution_count": 10,
   "id": "e66374f6",
   "metadata": {
    "scrolled": false
   },
   "outputs": [
    {
     "data": {
      "image/png": "[encoded data removed]",
      "text/plain": [
       "<Figure size 864x432 with 1 Axes>"
      ]
     },
     "metadata": {
      "needs_background": "light"
     },
     "output_type": "display_data"
    }
   ],
   "source": [
    "def t_to_ws(ps_t):\n",
    "    ps_ws = np.zeros(len(ws_plot))\n",
    "    for ps in ps_t:\n",
    "        for i in range(len(ps)):\n",
    "            ps_ws[i] += ps[i]\n",
    "    ps_ws /= len(ps_t)\n",
    "    return np.flip(ps_ws)\n",
    "\n",
    "ps_DC_ws = t_to_ws(ps_DC)\n",
    "ps_FLORIS_ws = t_to_ws(ps_FLORIS)\n",
    "ps_baseline_ws = t_to_ws(ps_baseline)\n",
    "\n",
    "\n",
    "plt.scatter(ws_plot, ps_DC_ws, color=colors[0], marker='x', label=\"DC\")\n",
    "plt.scatter(ws_plot, ps_FLORIS_ws, color=colors[1], marker='+', label=\"optimal\")\n",
    "plt.scatter(ws_plot, ps_baseline_ws, marker='o', color=colors[3], label=\"baseline\")\n",
    "plt.xlabel(\"Wind speed [m/s]\")\n",
    "plt.ylabel(\"Power [kW]\")\n",
    "plt.legend()\n",
    "fig = plt.gcf()\n",
    "fig.set_size_inches(12,6)\n",
    "plt.xticks(ticks=ws_plot, labels=[str(ws) for ws in ws_plot])\n",
    "# plt.savefig('/Users/jani/Documents/research/windFarmControl/2023ACC/figures_resubmission/testing_u.png', \n",
    "#              bbox_inches='tight')\n",
    "plt.show()"
   ]
  },
  {
   "cell_type": "markdown",
   "id": "5d9d704d",
   "metadata": {},
   "source": [
    "### yaw plots"
   ]
  },
  {
   "cell_type": "code",
   "execution_count": 11,
   "id": "603b5d02",
   "metadata": {},
   "outputs": [
    {
     "data": {
      "image/png": "[encoded data removed]",
      "text/plain": [
       "<Figure size 864x432 with 1 Axes>"
      ]
     },
     "metadata": {
      "needs_background": "light"
     },
     "output_type": "display_data"
    }
   ],
   "source": [
    "t1_9t_FLORIS = [yaw_9t_ws[7] for yaw_9t_ws in yaw_9t]\n",
    "t1_8t_FLORIS = [yaw_8t_ws[7] for yaw_8t_ws in yaw_8t]\n",
    "t1_9t_FLORIS.reverse()\n",
    "t1_8t_FLORIS.reverse()\n",
    "\n",
    "ws = torch.tensor(ws_plot)\n",
    "wd = wd_validation.repeat(ws.shape[0])\n",
    "active_turbs = active_turbs_validation[0].repeat(ws.shape[0], 1)\n",
    "x_coord_rotated, y_coord_rotated, mesh_x_rotated, \\\n",
    "    mesh_y_rotated, mesh_z, inds_sorted = \\\n",
    "    floris_pt.get_turbine_mesh(wd, x_coord, y_coord, z_coord)\n",
    "_, scaled_u, _ = get_control(model, ws, inds_sorted, ws_min, ws_max, \\\n",
    "    active_turbs=active_turbs)\n",
    "t1_9t_DC = scaled_u[:,7,0,0].squeeze().detach().numpy()\n",
    "\n",
    "active_turbs = active_turbs_validation[1].repeat(ws.shape[0], 1)\n",
    "x_coord_rotated, y_coord_rotated, mesh_x_rotated, \\\n",
    "    mesh_y_rotated, mesh_z, inds_sorted = \\\n",
    "    floris_pt.get_turbine_mesh(wd, x_coord, y_coord, z_coord)\n",
    "_, scaled_u, _ = get_control(model, ws, inds_sorted, ws_min, ws_max, \\\n",
    "    active_turbs=active_turbs)\n",
    "t1_8t_DC = scaled_u[:,7,0,0].squeeze().detach().numpy()\n",
    "    \n",
    "plt.scatter(ws_plot, t1_9t_DC, color=colors[0], marker='x', label=\"DC, 9\")\n",
    "plt.scatter(ws_plot, t1_8t_DC, color=colors[4], marker='o', label=\"DC, 8\")\n",
    "plt.scatter(ws_plot, t1_9t_FLORIS, color=colors[1], marker='+', label=\"optimal, 9\")\n",
    "plt.scatter(ws_plot, t1_8t_FLORIS, color=colors[5], marker='.', label=\"optimal, 8\")\n",
    "plt.xlabel(\"Wind speed [m/s]\")\n",
    "plt.ylabel(r'yaw $[^{\\circ}]$')\n",
    "plt.legend()\n",
    "fig = plt.gcf()\n",
    "fig.set_size_inches(12,6)\n",
    "plt.xticks(ticks=ws_plot, labels=[str(ws) for ws in ws_plot])\n",
    "# plt.savefig('/Users/jani/Documents/research/windFarmControl/2023ACC/figures_resubmission/yaw_t1.png', \n",
    "#              bbox_inches='tight')\n",
    "plt.show()"
   ]
  },
  {
   "cell_type": "code",
   "execution_count": 12,
   "id": "7015749a",
   "metadata": {},
   "outputs": [
    {
     "data": {
      "image/png": "[encoded data removed]",
      "text/plain": [
       "<Figure size 864x432 with 1 Axes>"
      ]
     },
     "metadata": {
      "needs_background": "light"
     },
     "output_type": "display_data"
    }
   ],
   "source": [
    "t2_9t_FLORIS = [yaw_9t_ws[4] for yaw_9t_ws in yaw_9t]\n",
    "t2_8t_FLORIS = [yaw_8t_ws[4] for yaw_8t_ws in yaw_8t]\n",
    "t2_9t_FLORIS.reverse()\n",
    "t2_8t_FLORIS.reverse()\n",
    "\n",
    "ws = torch.tensor(ws_plot)\n",
    "wd = wd_validation.repeat(ws.shape[0])\n",
    "active_turbs = active_turbs_validation[0].repeat(ws.shape[0], 1)\n",
    "x_coord_rotated, y_coord_rotated, mesh_x_rotated, \\\n",
    "    mesh_y_rotated, mesh_z, inds_sorted = \\\n",
    "    floris_pt.get_turbine_mesh(wd, x_coord, y_coord, z_coord)\n",
    "_, scaled_u, _ = get_control(model, ws, inds_sorted, ws_min, ws_max, \\\n",
    "    active_turbs=active_turbs)\n",
    "t2_9t_DC = scaled_u[:,4,0,0].squeeze().detach().numpy()\n",
    "\n",
    "active_turbs = active_turbs_validation[1].repeat(ws.shape[0], 1)\n",
    "x_coord_rotated, y_coord_rotated, mesh_x_rotated, \\\n",
    "    mesh_y_rotated, mesh_z, inds_sorted = \\\n",
    "    floris_pt.get_turbine_mesh(wd, x_coord, y_coord, z_coord)\n",
    "_, scaled_u, _ = get_control(model, ws, inds_sorted, ws_min, ws_max, \\\n",
    "    active_turbs=active_turbs)\n",
    "t2_8t_DC = scaled_u[:,4,0,0].squeeze().detach().numpy()\n",
    "    \n",
    "plt.scatter(ws_plot, t2_9t_DC, color=colors[0], marker='x', label=\"DC, 9\")\n",
    "plt.scatter(ws_plot, t2_8t_DC, color=colors[4], marker='o', label=\"DC, 8\")\n",
    "plt.scatter(ws_plot, t2_9t_FLORIS, color=colors[1], marker='+', label=\"optimal, 9\")\n",
    "plt.scatter(ws_plot, t2_8t_FLORIS, color=colors[5], marker='.', label=\"optimal, 8\")\n",
    "plt.xlabel(\"Wind speed [m/s]\")\n",
    "plt.ylabel(r'yaw $[^{\\circ}]$')\n",
    "plt.legend()\n",
    "fig = plt.gcf()\n",
    "fig.set_size_inches(12,6)\n",
    "plt.xticks(ticks=ws_plot, labels=[str(ws) for ws in ws_plot])\n",
    "# plt.savefig('/Users/jani/Documents/research/windFarmControl/2023ACC/figures_resubmission/yaw_t2.png', \n",
    "#              bbox_inches='tight')\n",
    "plt.show()"
   ]
  },
  {
   "cell_type": "markdown",
   "id": "93f0d909",
   "metadata": {},
   "source": [
    "## Testing numerical results"
   ]
  },
  {
   "cell_type": "code",
   "execution_count": 13,
   "id": "ffd35283",
   "metadata": {},
   "outputs": [
    {
     "data": {
      "text/plain": [
       "71.2069947719574"
      ]
     },
     "execution_count": 13,
     "metadata": {},
     "output_type": "execute_result"
    }
   ],
   "source": [
    "# training time\n",
    "runtime"
   ]
  },
  {
   "cell_type": "code",
   "execution_count": 14,
   "id": "863587f6",
   "metadata": {},
   "outputs": [
    {
     "data": {
      "text/plain": [
       "(-0.05, 0.13, -0.72)"
      ]
     },
     "execution_count": 14,
     "metadata": {},
     "output_type": "execute_result"
    }
   ],
   "source": [
    "# percent error in power from DC vs. FLORIS:\n",
    "# mean, max (DC better than FLORIS), min (FLORIS better than DC)\n",
    "err = (np.array(ps_DC) - np.array(ps_FLORIS))/(np.array(ps_FLORIS))*100.\n",
    "np.round(np.mean(err), 2), np.round(np.max(err), 2), np.round(np.min(err), 2)"
   ]
  },
  {
   "cell_type": "code",
   "execution_count": 15,
   "id": "0babd6dd",
   "metadata": {
    "scrolled": true
   },
   "outputs": [
    {
     "data": {
      "text/plain": [
       "(0.78, 4.05)"
      ]
     },
     "execution_count": 15,
     "metadata": {},
     "output_type": "execute_result"
    }
   ],
   "source": [
    "# diff. in yaw from FLORIS vs. DC: mean, max\n",
    "yaw_FLORIS = [yaw_9t, yaw_8t, yaw_7t, yaw_6t]\n",
    "yaws_mean = 0.\n",
    "yaws_max = 0.\n",
    "N = active_turbs_validation.shape[0]\n",
    "ws = ws_test\n",
    "for i in range(N):\n",
    "    wd = wd_validation.repeat(ws.shape[0])\n",
    "    active_turbs = active_turbs_validation[i].repeat(ws.shape[0], 1)\n",
    "    x_coord_rotated, y_coord_rotated, mesh_x_rotated, \\\n",
    "        mesh_y_rotated, mesh_z, inds_sorted = \\\n",
    "        floris_pt.get_turbine_mesh(wd, x_coord, y_coord, z_coord)\n",
    "    _, scaled_u, _ = get_control(model, ws, inds_sorted, ws_min, ws_max, \\\n",
    "        active_turbs=active_turbs)\n",
    "    yaw_DC_i = scaled_u.detach().numpy().squeeze()\n",
    "    if i > 0:\n",
    "        yaw_DC_i = yaw_DC_i[:,:-i]\n",
    "\n",
    "    yaw_FLORIS_i = yaw_FLORIS[i]\n",
    "    \n",
    "    yaw_diff = np.abs(yaw_FLORIS_i - yaw_DC_i)\n",
    "    yaw_mean = np.mean(yaw_diff)\n",
    "    yaw_max = np.max(yaw_diff)\n",
    "    yaws_mean += yaw_mean\n",
    "    yaws_max = np.max([yaws_max, yaw_max])\n",
    "yaws_mean /= N\n",
    "np.round(yaws_mean, 2), np.round(yaws_max, 2)"
   ]
  }
 ],
 "metadata": {
  "kernelspec": {
   "display_name": "Python 3 (ipykernel)",
   "language": "python",
   "name": "python3"
  },
  "language_info": {
   "codemirror_mode": {
    "name": "ipython",
    "version": 3
   },
   "file_extension": ".py",
   "mimetype": "text/x-python",
   "name": "python",
   "nbconvert_exporter": "python",
   "pygments_lexer": "ipython3",
   "version": "3.10.5"
  }
 },
 "nbformat": 4,
 "nbformat_minor": 5
}
