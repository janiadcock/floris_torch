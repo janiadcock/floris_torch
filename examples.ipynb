{
 "cells": [
  {
   "cell_type": "code",
   "execution_count": 1,
   "id": "2682f6ca",
   "metadata": {},
   "outputs": [],
   "source": [
    "from DPC import DPCModel\n",
    "from FLORIS_PT import FLORIS_PT\n",
    "import torch\n",
    "import torch.nn.functional as F\n",
    "import numpy as np\n",
    "import matplotlib.pyplot as plt\n",
    "import matplotlib as mpl\n",
    "import matplotlib.colors as mplcolors\n",
    "plt.rcParams.update({'font.size': 16})"
   ]
  },
  {
   "cell_type": "markdown",
   "id": "c0083cf8",
   "metadata": {},
   "source": [
    "## FLORIS-PT and DPC"
   ]
  },
  {
   "cell_type": "markdown",
   "id": "773792a7",
   "metadata": {},
   "source": [
    "### Shared inputs"
   ]
  },
  {
   "cell_type": "code",
   "execution_count": 2,
   "id": "496ca421",
   "metadata": {},
   "outputs": [],
   "source": [
    "# input files to define turbine type, wind conditions, and FLORIS model parameters\n",
    "input_file_path = \"./inputs.yaml\"\n",
    "floris_pt = FLORIS_PT(input_file_path)\n",
    "\n",
    "# wind farm layout\n",
    "D = floris_pt.turbine['rotor_diameter']\n",
    "x_coord = torch.tensor([0., 6.*D,\n",
    "                        0., 6.*D])\n",
    "y_coord = torch.tensor([3.*D, 3.*D, \n",
    "                        0., 0.])\n",
    "z_hh = floris_pt.turbine['hub_height']\n",
    "nturbs = len(x_coord)\n",
    "z_coord = torch.tensor([z_hh] * nturbs)"
   ]
  },
  {
   "cell_type": "markdown",
   "id": "e495b6a9",
   "metadata": {},
   "source": [
    "## FLORIS-PT"
   ]
  },
  {
   "cell_type": "markdown",
   "id": "38fa2b37",
   "metadata": {},
   "source": [
    "### FLORIS-PT inputs"
   ]
  },
  {
   "cell_type": "code",
   "execution_count": 3,
   "id": "724d34ba",
   "metadata": {},
   "outputs": [],
   "source": [
    "wd = torch.tensor([270.]) # degrees\n",
    "ws = torch.tensor([8.0]) # m/s\n",
    "u = torch.tensor([25., 0., 25., 0.]) # yaw angles for each turbine in farm"
   ]
  },
  {
   "cell_type": "markdown",
   "id": "c0475780",
   "metadata": {},
   "source": [
    "### Power and velocity given control action"
   ]
  },
  {
   "cell_type": "code",
   "execution_count": 4,
   "id": "f1bb4351",
   "metadata": {},
   "outputs": [
    {
     "name": "stdout",
     "output_type": "stream",
     "text": [
      "turbine power:  [1406. 1406.  925.  925.]\n",
      "farm power:  4662.0\n",
      "velocity:  [[[7.596956  8.        8.293351 ]\n",
      "  [7.596956  8.        8.293351 ]\n",
      "  [7.596956  8.        8.293351 ]]\n",
      "\n",
      " [[7.596956  8.        8.293351 ]\n",
      "  [7.596956  8.        8.293351 ]\n",
      "  [7.596956  8.        8.293351 ]]\n",
      "\n",
      " [[5.5026693 5.279379  6.0070868]\n",
      "  [6.21089   6.199405  6.7802277]\n",
      "  [7.0419436 7.279001  7.6874623]]\n",
      "\n",
      " [[5.5026693 5.279379  6.0070868]\n",
      "  [6.21089   6.199405  6.7802277]\n",
      "  [7.0419436 7.279001  7.6874623]]]\n"
     ]
    }
   ],
   "source": [
    "# generate mesh on turbine rotor\n",
    "x_coord_rotated, y_coord_rotated, mesh_x_rotated, \\\n",
    "    mesh_y_rotated, mesh_z, inds_sorted, x_coord_active = floris_pt.get_turbine_mesh(wd, x_coord, y_coord, z_coord)\n",
    "\n",
    "# calculate field on rotor mesh\n",
    "u_rotated = u[inds_sorted]\n",
    "flow_field_u, yaw_angle = floris_pt.get_field_rotor(ws, wd, u_rotated, \\\n",
    "    x_coord_active, x_coord_rotated, y_coord_rotated, mesh_x_rotated, \\\n",
    "    mesh_y_rotated, mesh_z, inds_sorted)\n",
    "\n",
    "# calculate turbine power\n",
    "p = floris_pt.get_power(flow_field_u, x_coord_rotated, yaw_angle)\n",
    "\n",
    "# print individual turbine power, farm power, and velocity\n",
    "print(\"turbine power: \", np.round(p.detach().numpy().flatten(), 0)) # kW\n",
    "print(\"farm power: \", np.round(torch.sum(p).detach().numpy(), 0)) # kW\n",
    "print(\"velocity: \", flow_field_u.detach().numpy()[0, 0, 0, :, :, :]) # m/s"
   ]
  },
  {
   "cell_type": "code",
   "execution_count": 5,
   "id": "97201222",
   "metadata": {},
   "outputs": [
    {
     "data": {
      "image/png": "[encoded data removed]",
      "text/plain": [
       "<Figure size 432x288 with 5 Axes>"
      ]
     },
     "metadata": {
      "needs_background": "light"
     },
     "output_type": "display_data"
    }
   ],
   "source": [
    "# plotting settings\n",
    "t_range = None\n",
    "wd_index = 0\n",
    "ws_index = 0\n",
    "n_rows = 1\n",
    "n_cols = 4\n",
    "cmap = \"coolwarm\"\n",
    "save_path = False\n",
    "\n",
    "#plot rotor values\n",
    "cmap = plt.cm.get_cmap(name=cmap)\n",
    "if t_range is None:\n",
    "    t_range = range(flow_field_u.shape[3])\n",
    "    \n",
    "fig = plt.figure()\n",
    "axes = fig.subplots(n_rows, n_cols)\n",
    "\n",
    "indices = t_range\n",
    "titles = np.array([f\"T{i}\" for i in indices])\n",
    "\n",
    "for ax, t, i in zip(axes.flatten(), titles, indices):\n",
    "    vmin = torch.min(flow_field_u[wd_index, ws_index])\n",
    "    vmax = torch.max(flow_field_u[wd_index, ws_index])\n",
    "\n",
    "    bounds = np.linspace(vmin, vmax, 31)\n",
    "    norm = mplcolors.Normalize(vmin, vmax)\n",
    "\n",
    "    ax.imshow(flow_field_u[0, wd_index, ws_index, i].T, cmap=cmap, norm=norm, origin=\"lower\")\n",
    "    ax.invert_xaxis()\n",
    "\n",
    "    ax.set_xticks([])\n",
    "    ax.set_yticks([])\n",
    "    ax.set_title(t)\n",
    "    \n",
    "fig.subplots_adjust(right=0.8)\n",
    "cbar_ax = fig.add_axes([0.83, 0.25, 0.03, 0.5])\n",
    "cb = fig.colorbar(mpl.cm.ScalarMappable(norm=norm, cmap=cmap), cax=cbar_ax)\n",
    "\n",
    "plt.show()"
   ]
  },
  {
   "cell_type": "markdown",
   "id": "b50d1fa1",
   "metadata": {},
   "source": [
    "## DPC"
   ]
  },
  {
   "cell_type": "markdown",
   "id": "ea008143",
   "metadata": {},
   "source": [
    "### Helper functions to apply DPC to FLORIS-PT"
   ]
  },
  {
   "cell_type": "code",
   "execution_count": 6,
   "id": "5f0494ac",
   "metadata": {},
   "outputs": [],
   "source": [
    "# get control action from DPC model\n",
    "def get_control(model, ws, wd, inds_sorted, ws_max, wd_max=360.):\n",
    "    # normalize features to range [0,1] by dividing ws by ws_max and wd by wd_max\n",
    "    x = torch.cat([ws/ws_max, wd/wd_max])\n",
    "    u = model(x)\n",
    "#     clipped_u = F.relu(u*umax-umin) + umin\n",
    "#     clipped_u = -F.relu(-clipped_u + umax) + umax\n",
    "    clipped_u = u*umax\n",
    "    clipped_u = clipped_u[inds_sorted.flatten()]\n",
    "    return u, clipped_u\n",
    "\n",
    "# calculate average power over list of wind speeds\n",
    "# modifies powers list to add this average power\n",
    "def test_power(floris_pt, model, ws_all, wd, powers, x_coord, y_coord, z_coord, \\\n",
    "               ws_max, wd_max=360.):\n",
    "    \n",
    "    # generate mesh on turbine rotor\n",
    "    x_coord_rotated, y_coord_rotated, mesh_x_rotated, \\\n",
    "        mesh_y_rotated, mesh_z, inds_sorted, x_coord_active = \\\n",
    "        floris_pt.get_turbine_mesh(wd, x_coord, y_coord, z_coord)\n",
    "    \n",
    "    # calculate avg power over wind speeds\n",
    "    power = 0.\n",
    "    for ws in ws_all:\n",
    "        # get control action\n",
    "        u, clipped_u = get_control(model, ws, wd, inds_sorted, ws_max, wd_max)\n",
    "        \n",
    "        # calculate field on rotor mesh\n",
    "        flow_field_u, yaw_angle = floris_pt.get_field_rotor(ws, wd, clipped_u, \\\n",
    "            x_coord_active, x_coord_rotated, y_coord_rotated, mesh_x_rotated, \\\n",
    "            mesh_y_rotated, mesh_z, inds_sorted)\n",
    "\n",
    "        # calculate turbine power\n",
    "        p = floris_pt.get_power(flow_field_u, x_coord_rotated, yaw_angle)\n",
    "        \n",
    "        # add farm power\n",
    "        power += torch.sum(p)\n",
    "    power /= len(ws_all)\n",
    "    powers.append(float(power.detach().numpy()))"
   ]
  },
  {
   "cell_type": "markdown",
   "id": "ceaf36b4",
   "metadata": {},
   "source": [
    "###  DPC inputs"
   ]
  },
  {
   "cell_type": "code",
   "execution_count": 7,
   "id": "984f74f9",
   "metadata": {},
   "outputs": [],
   "source": [
    "# set bounds on allowed yaw angle\n",
    "umin = torch.tensor([0.]) # minimum allowed yaw angle (degrees)\n",
    "umax = torch.tensor([25.]) # maximum allowed yaw angle (degrees)\n",
    "\n",
    "# neural network parameters\n",
    "model_config = dict({\"n_turbines\": nturbs, \n",
    "                     \"hidden_dim\": 64})\n",
    "\n",
    "# hyperparameters\n",
    "lambda_ = 100. # scaling constant for penalty on constraint violations\n",
    "lr = .001\n",
    "batch_size = 20\n",
    "N_batches = 10\n",
    "N_epochs = 10\n",
    "\n",
    "# generate training data\n",
    "ws_max = 8.0\n",
    "wd_fixed = 270.\n",
    "ws_training = torch.rand((N_batches, batch_size, 1)) * ws_max # ws from [0, ws_max]; m/s\n",
    "wd_training = wd_fixed + .1*(torch.rand((N_batches, batch_size, 1)) -.5) # wd varies around wd_fixed; degrees\n",
    "\n",
    "# pick validation set\n",
    "ws_validation = torch.tensor([[4.], [6.], [8.]]) # m/s\n",
    "wd_validation = torch.tensor([270.]) # degrees"
   ]
  },
  {
   "cell_type": "markdown",
   "id": "ab68e0b2",
   "metadata": {},
   "source": [
    "### Training"
   ]
  },
  {
   "cell_type": "code",
   "execution_count": 8,
   "id": "32604618",
   "metadata": {
    "scrolled": false
   },
   "outputs": [
    {
     "name": "stdout",
     "output_type": "stream",
     "text": [
      "epoch: 1/10.\n",
      "epoch: 2/10.\n",
      "epoch: 3/10.\n",
      "epoch: 4/10.\n",
      "epoch: 5/10.\n",
      "epoch: 6/10.\n",
      "epoch: 7/10.\n",
      "epoch: 8/10.\n",
      "epoch: 9/10.\n",
      "epoch: 10/10.\n"
     ]
    }
   ],
   "source": [
    "# initialize DPC model\n",
    "model = DPCModel(**model_config)\n",
    "\n",
    "# initialize optimizer used for training\n",
    "opt = torch.optim.Adam(model.parameters(), lr=lr)\n",
    "\n",
    "# vectors to track training progress\n",
    "opt_losses = []\n",
    "u_viol_losses = []\n",
    "power_losses = []\n",
    "powers_validation = []\n",
    "\n",
    "# calculate and record power over validation set \n",
    "# using control actions from untrained DPC policy\n",
    "test_power(floris_pt, model, ws_validation, wd_validation, powers_validation, \\\n",
    "           x_coord, y_coord, z_coord, ws_max)\n",
    "\n",
    "for epoch in range(N_epochs):\n",
    "    print(\"epoch: %d/%d.\"%(epoch+1,N_epochs))\n",
    "    for batch in range(N_batches):\n",
    "        opt_loss = 0.\n",
    "        u_viol_loss = 0.\n",
    "        power_loss = 0.\n",
    "\n",
    "        # forward pass\n",
    "        for sample in range(batch_size):\n",
    "            ws = ws_training[batch, sample]\n",
    "            wd = wd_training[batch, sample]\n",
    "\n",
    "            # generate mesh on turbine rotor\n",
    "            x_coord_rotated, y_coord_rotated, mesh_x_rotated, \\\n",
    "                mesh_y_rotated, mesh_z, inds_sorted, x_coord_active = \\\n",
    "                floris_pt.get_turbine_mesh(wd, x_coord, y_coord, z_coord)\n",
    "\n",
    "            # get control action\n",
    "            u, clipped_u = get_control(model, ws, wd, inds_sorted, ws_max)\n",
    "\n",
    "            # calculate field on rotor mesh\n",
    "            flow_field_u, yaw_angle = floris_pt.get_field_rotor(ws, wd, clipped_u, \\\n",
    "                x_coord_active, x_coord_rotated, y_coord_rotated, mesh_x_rotated, \\\n",
    "                mesh_y_rotated, mesh_z, inds_sorted)\n",
    "\n",
    "            # calculate turbine power\n",
    "            p = floris_pt.get_power(flow_field_u, x_coord_rotated, yaw_angle)\n",
    "\n",
    "            # negative farm power (negative b/c optimizer minimizes loss)\n",
    "            power_cost = -torch.sum(p)\n",
    "\n",
    "            # cost from soft constraints (violating bounds on yaw angle)\n",
    "            u_viol_lower = F.relu(umin - u*umax)\n",
    "            u_viol_upper = F.relu(u*umax - umax)\n",
    "            u_viol_cost = lambda_ * torch.sum(torch.sqrt(u_viol_lower.pow(2) + u_viol_upper.pow(2) +1e-16))\n",
    "\n",
    "            # total cost\n",
    "            total_cost = u_viol_cost + power_cost\n",
    "\n",
    "            # sum over samples in batch\n",
    "            opt_loss += total_cost\n",
    "            u_viol_loss += u_viol_cost\n",
    "            power_loss += power_cost\n",
    "\n",
    "        # normalize loss by batch size\n",
    "        opt_loss /= batch_size\n",
    "        u_viol_loss /= batch_size\n",
    "        power_loss /= batch_size\n",
    "\n",
    "        # backward pass\n",
    "        opt.zero_grad()\n",
    "        opt_loss.backward()\n",
    "        opt.step()\n",
    "        \n",
    "        # save losses\n",
    "        opt_losses.append(opt_loss.detach().numpy())\n",
    "        u_viol_losses.append(u_viol_loss.detach().numpy())\n",
    "        power_losses.append(power_loss.detach().numpy())\n",
    "\n",
    "        # calculate and record power over validation set \n",
    "        # using control actions from updated DPC policy\n",
    "        test_power(floris_pt, model, ws_validation, wd_validation, powers_validation, \\\n",
    "               x_coord, y_coord, z_coord, ws_max)"
   ]
  },
  {
   "cell_type": "code",
   "execution_count": 9,
   "id": "ae689220",
   "metadata": {},
   "outputs": [
    {
     "data": {
      "image/png": "[encoded data removed]",
      "text/plain": [
       "<Figure size 864x432 with 1 Axes>"
      ]
     },
     "metadata": {
      "needs_background": "light"
     },
     "output_type": "display_data"
    }
   ],
   "source": [
    "# power for validation set from FLORIS model (baseline and optimized)\n",
    "FLORIS_baseline = (4483. + 1771. + 364.)/3. # unyawed; from FLORIS\n",
    "FLORIS_opt = (4662. + 1882. + 406.)/3. # optimal yaw; from FLORIS\n",
    "\n",
    "plt.plot(np.array(powers_validation), label='DPC', color='tab:blue', linestyle='-', linewidth=3)\n",
    "plt.axhline(FLORIS_baseline, label='baseline', color='tab:green', linestyle=':', linewidth=3)\n",
    "plt.axhline(FLORIS_opt, label='lookup table', color='tab:orange', linestyle='--', linewidth=3)\n",
    "plt.xlabel('batch')\n",
    "plt.ylabel('avg power over validation set (kW)')\n",
    "fig = plt.gcf()\n",
    "fig.set_size_inches(12,6)\n",
    "plt.show()"
   ]
  },
  {
   "cell_type": "markdown",
   "id": "e7d9424b",
   "metadata": {},
   "source": [
    "### Testing"
   ]
  },
  {
   "cell_type": "code",
   "execution_count": 10,
   "id": "dd35f1fe",
   "metadata": {},
   "outputs": [
    {
     "name": "stdout",
     "output_type": "stream",
     "text": [
      "DPC yaw:  [24.5 24.8  0.8  1. ]\n",
      "DPC power:  4660.5\n",
      "\n",
      "optimal yaw:  [25. 25.  0.  0.]\n",
      "optimal power:  4662.3\n",
      "\n",
      "baseline yaw:  [0. 0. 0. 0.]\n",
      "baseline power:  4483.0\n",
      "\n"
     ]
    }
   ],
   "source": [
    "ws = torch.tensor([ws_max])\n",
    "wd = torch.tensor([wd_fixed])\n",
    "\n",
    "# generate mesh on turbine rotor\n",
    "x_coord_rotated, y_coord_rotated, mesh_x_rotated, \\\n",
    "    mesh_y_rotated, mesh_z, inds_sorted, x_coord_active = \\\n",
    "    floris_pt.get_turbine_mesh(wd, x_coord, y_coord, z_coord)\n",
    "\n",
    "# get control action\n",
    "u_DPC, u_clipped_DPC = get_control(model, ws, wd, inds_sorted, ws_max)\n",
    "u_optimal = torch.tensor([25., 0., 25., 0.])[inds_sorted] # optimal yaw; from FLORIS\n",
    "u_baseline = torch.tensor([0., 0., 0., 0.])[inds_sorted] # unyawed\n",
    "\n",
    "# compare DPC control action to optimal action (from FLORIS) \n",
    "# and baseline action (unyawed)\n",
    "us = [u_clipped_DPC, u_optimal, u_baseline]\n",
    "labels = [\"DPC\", \"optimal\", \"baseline\"]\n",
    "for i in range(len(us)):    \n",
    "    u = us[i]\n",
    "    # calculate field on rotor mesh\n",
    "    flow_field_u, yaw_angle = floris_pt.get_field_rotor(ws, wd, u, \\\n",
    "        x_coord_active, x_coord_rotated, y_coord_rotated, mesh_x_rotated, \\\n",
    "        mesh_y_rotated, mesh_z, inds_sorted)\n",
    "\n",
    "    # calculate turbine power\n",
    "    p = floris_pt.get_power(flow_field_u, x_coord_rotated, yaw_angle)\n",
    "    \n",
    "    label = labels[i]\n",
    "    print(label + \" yaw: \", np.round(u.detach().numpy().flatten(),1))\n",
    "    print(label + \" power: \", np.round(torch.sum(p).detach().numpy(), 1))\n",
    "    print(\"\")"
   ]
  }
 ],
 "metadata": {
  "kernelspec": {
   "display_name": "Python 3 (ipykernel)",
   "language": "python",
   "name": "python3"
  },
  "language_info": {
   "codemirror_mode": {
    "name": "ipython",
    "version": 3
   },
   "file_extension": ".py",
   "mimetype": "text/x-python",
   "name": "python",
   "nbconvert_exporter": "python",
   "pygments_lexer": "ipython3",
   "version": "3.10.5"
  }
 },
 "nbformat": 4,
 "nbformat_minor": 5
}
