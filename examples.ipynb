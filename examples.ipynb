{
 "cells": [
  {
   "cell_type": "code",
   "execution_count": 1,
   "id": "2682f6ca",
   "metadata": {},
   "outputs": [],
   "source": [
    "from DC import DCModel\n",
    "from FLORIS_PT import FLORIS_PT\n",
    "import torch\n",
    "import torch.nn.functional as F\n",
    "import numpy as np\n",
    "import matplotlib.pyplot as plt\n",
    "import matplotlib as mpl\n",
    "import matplotlib.colors as mplcolors\n",
    "import copy\n",
    "plt.rcParams.update({'font.size': 16})"
   ]
  },
  {
   "cell_type": "markdown",
   "id": "c0083cf8",
   "metadata": {},
   "source": [
    "## FLORIS-PT and DC"
   ]
  },
  {
   "cell_type": "markdown",
   "id": "773792a7",
   "metadata": {},
   "source": [
    "### Shared inputs"
   ]
  },
  {
   "cell_type": "code",
   "execution_count": 2,
   "id": "496ca421",
   "metadata": {},
   "outputs": [],
   "source": [
    "# input files to define turbine type, wind conditions, and FLORIS model parameters\n",
    "input_file_path = \"./inputs.yaml\"\n",
    "floris_pt = FLORIS_PT(input_file_path)\n",
    "\n",
    "# wind farm layout\n",
    "D = floris_pt.turbine['rotor_diameter']\n",
    "x_coord = torch.tensor([0., 6.*D,\n",
    "                        0., 6.*D])\n",
    "y_coord = torch.tensor([3.*D, 3.*D, \n",
    "                        0., 0.])\n",
    "z_hh = floris_pt.turbine['hub_height']\n",
    "nturbs = len(x_coord)\n",
    "z_coord = torch.tensor([z_hh] * nturbs)"
   ]
  },
  {
   "cell_type": "markdown",
   "id": "e495b6a9",
   "metadata": {},
   "source": [
    "## FLORIS-PT"
   ]
  },
  {
   "cell_type": "markdown",
   "id": "38fa2b37",
   "metadata": {},
   "source": [
    "### FLORIS-PT inputs"
   ]
  },
  {
   "cell_type": "code",
   "execution_count": 3,
   "id": "724d34ba",
   "metadata": {},
   "outputs": [],
   "source": [
    "wd = torch.tensor([269.5]) # degrees\n",
    "ws = torch.tensor([8.0]) # m/s\n",
    "scaled_u = torch.tensor([25., 0., 25., 0.]) # yaw angles for each turbine in farm"
   ]
  },
  {
   "cell_type": "markdown",
   "id": "c0475780",
   "metadata": {},
   "source": [
    "### Power and velocity given control action"
   ]
  },
  {
   "cell_type": "code",
   "execution_count": 4,
   "id": "345e89f1",
   "metadata": {},
   "outputs": [
    {
     "name": "stdout",
     "output_type": "stream",
     "text": [
      "turbine power:  [1406. 1406.  862.  862.]\n",
      "farm power:  4536.0\n",
      "velocity:  [[[7.596956  8.        8.293351 ]\n",
      "  [7.596956  8.        8.293351 ]\n",
      "  [7.596956  8.        8.293351 ]]\n",
      "\n",
      " [[7.596956  8.        8.293351 ]\n",
      "  [7.596956  8.        8.293351 ]\n",
      "  [7.596956  8.        8.293351 ]]\n",
      "\n",
      " [[5.4542837 5.216503  5.9542656]\n",
      "  [6.0214705 5.953323  6.573445 ]\n",
      "  [6.8960876 7.0895185 7.5282364]]\n",
      "\n",
      " [[5.4542837 5.216503  5.9542656]\n",
      "  [6.0214715 5.9533243 6.573446 ]\n",
      "  [6.8960886 7.0895195 7.5282373]]]\n"
     ]
    }
   ],
   "source": [
    "# generate mesh on turbine rotor\n",
    "x_coord_rotated, y_coord_rotated, mesh_x_rotated, \\\n",
    "    mesh_y_rotated, mesh_z, inds_sorted = \\\n",
    "    floris_pt.get_turbine_mesh(wd, x_coord, y_coord, z_coord)\n",
    "\n",
    "# get control action\n",
    "scaled_u_sorted = scaled_u[inds_sorted]\n",
    "\n",
    "# calculate field on rotor mesh\n",
    "flow_field_u, yaw_angle = floris_pt.get_field_rotor(ws, scaled_u_sorted, \\\n",
    "    x_coord_rotated, y_coord_rotated, mesh_x_rotated, \\\n",
    "    mesh_y_rotated, mesh_z, inds_sorted)\n",
    "\n",
    "# calculate turbine power\n",
    "p = floris_pt.get_power(flow_field_u, x_coord_rotated, yaw_angle)\n",
    "\n",
    "# print individual turbine power, farm power, and velocity\n",
    "print(\"turbine power: \", np.round(p.detach().numpy().flatten(), 0)) # kW\n",
    "print(\"farm power: \", np.round(torch.sum(p).detach().numpy(), 0)) # kW\n",
    "print(\"velocity: \", flow_field_u.detach().numpy()[0]) # m/s"
   ]
  },
  {
   "cell_type": "code",
   "execution_count": 5,
   "id": "97201222",
   "metadata": {},
   "outputs": [
    {
     "data": {
      "image/png": "[encoded data removed]",
      "text/plain": [
       "<Figure size 432x288 with 5 Axes>"
      ]
     },
     "metadata": {
      "needs_background": "light"
     },
     "output_type": "display_data"
    }
   ],
   "source": [
    "# plotting settings\n",
    "t_range = None\n",
    "index = 0\n",
    "n_rows = 1\n",
    "n_cols = 4\n",
    "cmap = \"coolwarm\"\n",
    "save_path = False\n",
    "\n",
    "#plot rotor values\n",
    "cmap = plt.cm.get_cmap(name=cmap)\n",
    "if t_range is None:\n",
    "    t_range = range(flow_field_u.shape[1])\n",
    "    \n",
    "fig = plt.figure()\n",
    "axes = fig.subplots(n_rows, n_cols)\n",
    "\n",
    "indices = t_range\n",
    "titles = np.array([f\"T{i}\" for i in indices])\n",
    "\n",
    "for ax, t, i in zip(axes.flatten(), titles, indices):\n",
    "    vmin = torch.min(flow_field_u[index])\n",
    "    vmax = torch.max(flow_field_u[index])\n",
    "\n",
    "    bounds = np.linspace(vmin, vmax, 31)\n",
    "    norm = mplcolors.Normalize(vmin, vmax)\n",
    "\n",
    "    ax.imshow(flow_field_u[0, i].T, cmap=cmap, norm=norm, origin=\"lower\")\n",
    "    ax.invert_xaxis()\n",
    "\n",
    "    ax.set_xticks([])\n",
    "    ax.set_yticks([])\n",
    "    ax.set_title(t)\n",
    "    \n",
    "fig.subplots_adjust(right=0.8)\n",
    "cbar_ax = fig.add_axes([0.83, 0.25, 0.03, 0.5])\n",
    "cb = fig.colorbar(mpl.cm.ScalarMappable(norm=norm, cmap=cmap), cax=cbar_ax)\n",
    "\n",
    "plt.show()"
   ]
  },
  {
   "cell_type": "markdown",
   "id": "b50d1fa1",
   "metadata": {},
   "source": [
    "## DC"
   ]
  },
  {
   "cell_type": "markdown",
   "id": "ea008143",
   "metadata": {},
   "source": [
    "### Helper functions to apply DC to FLORIS-PT"
   ]
  },
  {
   "cell_type": "code",
   "execution_count": 6,
   "id": "5f0494ac",
   "metadata": {},
   "outputs": [],
   "source": [
    "# get control action from DC model\n",
    "def get_control(model, ws, inds_sorted, ws_min, ws_max, active_turbs=None):\n",
    "    # normalize features to range [0,1]\n",
    "    ws_rep = ws.unsqueeze(dim=1)\n",
    "    ws_norm = (ws_rep - ws_min)/(ws_max - ws_min)\n",
    "    if active_turbs is not None:\n",
    "        x = torch.cat([ws_norm, active_turbs], axis=1)\n",
    "    else:\n",
    "        x = ws_norm\n",
    "    u = model(x)\n",
    "    scaled_u = torch.clone(u)*(umax-umin)+umin\n",
    "    if active_turbs is not None:\n",
    "        scaled_u = torch.where(active_turbs,scaled_u,torch.tensor(0.))\n",
    "    scaled_u = torch.reshape(scaled_u, (x.shape[0], nturbs, 1, 1)) # unflatten\n",
    "    scaled_u_sorted = torch.take_along_dim(scaled_u, inds_sorted, axis=1) # sort\n",
    "    return scaled_u_sorted, scaled_u, u\n",
    "\n",
    "# calculate average power over list of wind speeds\n",
    "# modifies powers list to add this average power\n",
    "def test_power(floris_pt, model, ws_validation, wd_validation, powers_validation, \\\n",
    "    x_coord, y_coord, z_coord, ws_max, wd_max=360., active_turbs_validation=None):\n",
    "    \n",
    "    ws = ws_validation\n",
    "    wd = wd_validation.repeat(ws_validation.shape[0])\n",
    "\n",
    "    # generate mesh on turbine rotor\n",
    "    x_coord_rotated, y_coord_rotated, mesh_x_rotated, \\\n",
    "        mesh_y_rotated, mesh_z, inds_sorted = \\\n",
    "        floris_pt.get_turbine_mesh(wd, x_coord, y_coord, z_coord)\n",
    "\n",
    "    # get control action\n",
    "    scaled_u_sorted, _, u = get_control(model, ws, inds_sorted, ws_min, ws_max)\n",
    "\n",
    "    # calculate field on rotor mesh\n",
    "    flow_field_u, yaw_angle = floris_pt.get_field_rotor(ws, scaled_u_sorted, \\\n",
    "        x_coord_rotated, y_coord_rotated, mesh_x_rotated, \\\n",
    "        mesh_y_rotated, mesh_z, inds_sorted)\n",
    "\n",
    "    # calculate turbine power\n",
    "    p = floris_pt.get_power(flow_field_u, x_coord_rotated, yaw_angle)\n",
    "\n",
    "    # add farm power\n",
    "    farm_power = torch.sum(p, dim=(1)) # sum over turbines\n",
    "    farm_power_mean = torch.mean(farm_power).item()\n",
    "\n",
    "    power_validation = farm_power_mean\n",
    "        \n",
    "    powers_validation.append(power_validation/nturbs)"
   ]
  },
  {
   "cell_type": "markdown",
   "id": "ceaf36b4",
   "metadata": {},
   "source": [
    "###  DC inputs"
   ]
  },
  {
   "cell_type": "code",
   "execution_count": 7,
   "id": "984f74f9",
   "metadata": {},
   "outputs": [],
   "source": [
    "# dropout\n",
    "dropout = False\n",
    "\n",
    "# set bounds on allowed yaw angle\n",
    "umin = torch.tensor([-25.]) # minimum allowed yaw angle (degrees)\n",
    "umax = torch.tensor([25.]) # maximum allowed yaw angle (degrees)\n",
    "\n",
    "# hyperparameters\n",
    "lr = .001\n",
    "batch_size = 20\n",
    "N_batches = 10\n",
    "N_epochs = 10\n",
    "hidden_dim = 64\n",
    "\n",
    "# neural network parameters\n",
    "model_config = dict({\"n_turbines\": nturbs, \n",
    "                     \"hidden_dim\": hidden_dim,\n",
    "                     \"dropout\": dropout})\n",
    "\n",
    "# generate training data\n",
    "ws_max = 11.4\n",
    "ws_min = 3.0\n",
    "wd_fixed = 270.\n",
    "ws_training = torch.rand((N_batches, batch_size, 1)) * (ws_max - ws_min) + ws_min\n",
    "wd_training = wd_fixed + .1*(torch.rand((N_batches, batch_size, 1)) -.5) # wd varies around wd_fixed; degrees\n",
    "\n",
    "# pick validation set\n",
    "ws_validation = torch.tensor([4., 6., 8.]) # m/s\n",
    "wd_validation = torch.tensor([wd_fixed]) # degrees"
   ]
  },
  {
   "cell_type": "markdown",
   "id": "ab68e0b2",
   "metadata": {},
   "source": [
    "### Training"
   ]
  },
  {
   "cell_type": "code",
   "execution_count": 8,
   "id": "32604618",
   "metadata": {
    "scrolled": false
   },
   "outputs": [],
   "source": [
    "# initialize DC model\n",
    "model = DCModel(**model_config)\n",
    "\n",
    "# initialize optimizer used for training\n",
    "opt = torch.optim.Adam(model.parameters(), lr=lr)\n",
    "\n",
    "# vectors to track training progress\n",
    "opt_losses = []\n",
    "powers_validation = []\n",
    "\n",
    "# calculate and record power over validation set \n",
    "# using control actions from untrained DC policy\n",
    "test_power(floris_pt, model, ws_validation, wd_validation, powers_validation, \\\n",
    "           x_coord, y_coord, z_coord, ws_max)\n",
    "\n",
    "power_best = powers_validation[-1]\n",
    "model_best = copy.deepcopy(model)\n",
    "\n",
    "for epoch in range(N_epochs):\n",
    "    # reorder samples to randomize data in batches\n",
    "    perm_i = torch.randperm(N_batches)\n",
    "    perm_j = torch.randperm(batch_size)\n",
    "    ws_training_ij = ws_training[perm_i][:,perm_j]\n",
    "    wd_training_ij = wd_training[perm_i][:,perm_j]\n",
    "\n",
    "    for batch in range(N_batches):\n",
    "        opt_loss = 0.\n",
    "\n",
    "        # forward pass\n",
    "        ws = ws_training_ij[batch, :].squeeze(dim=1)\n",
    "        wd = wd_training_ij[batch, :].squeeze(dim=1)\n",
    "\n",
    "        # generate mesh on turbine rotor\n",
    "        x_coord_rotated, y_coord_rotated, mesh_x_rotated, \\\n",
    "            mesh_y_rotated, mesh_z, inds_sorted = \\\n",
    "            floris_pt.get_turbine_mesh(wd, x_coord, y_coord, z_coord)\n",
    "\n",
    "        # get control action\n",
    "        scaled_u_sorted, _, u = get_control(model, ws, inds_sorted, ws_min, ws_max)\n",
    "\n",
    "        # calculate field on rotor mesh\n",
    "        flow_field_u, yaw_angle = floris_pt.get_field_rotor(ws, scaled_u_sorted, \\\n",
    "            x_coord_rotated, y_coord_rotated, mesh_x_rotated, \\\n",
    "            mesh_y_rotated, mesh_z, inds_sorted)\n",
    "\n",
    "        # calculate turbine power\n",
    "        p = floris_pt.get_power(flow_field_u, x_coord_rotated, yaw_angle)\n",
    "\n",
    "        # negative farm power (negative b/c optimizer minimizes loss)\n",
    "        power_cost = -torch.sum(p)\n",
    "\n",
    "        # sum over samples in batch\n",
    "        opt_loss += power_cost/nturbs\n",
    "\n",
    "        # normalize loss by batch size\n",
    "        opt_loss /= batch_size\n",
    "\n",
    "        # backward pass\n",
    "        opt.zero_grad()\n",
    "        opt_loss.backward()\n",
    "        opt.step()\n",
    "        \n",
    "        # save losses\n",
    "        opt_losses.append(opt_loss.detach().numpy())\n",
    "\n",
    "        # calculate and record power over validation set \n",
    "        # using control actions from updated DC policy\n",
    "        test_power(floris_pt, model, ws_validation, wd_validation, powers_validation, \\\n",
    "               x_coord, y_coord, z_coord, ws_max)\n",
    "        \n",
    "        # save best model\n",
    "        power_validation = powers_validation[-1]\n",
    "        if power_validation > power_best:\n",
    "            power_best = power_validation\n",
    "            model_best = copy.deepcopy(model)\n",
    "            \n",
    "model = model_best"
   ]
  },
  {
   "cell_type": "code",
   "execution_count": 9,
   "id": "ae689220",
   "metadata": {},
   "outputs": [
    {
     "data": {
      "image/png": "[encoded data removed]",
      "text/plain": [
       "<Figure size 864x432 with 1 Axes>"
      ]
     },
     "metadata": {
      "needs_background": "light"
     },
     "output_type": "display_data"
    }
   ],
   "source": [
    "# power for validation set from FLORIS model (baseline and optimized)\n",
    "FLORIS_baseline = (4483. + 1771. + 364.)/nturbs/3. # unyawed; from FLORIS\n",
    "FLORIS_opt = (4662. + 1882. + 406.)/nturbs/3. # optimal yaw; from FLORIS\n",
    "\n",
    "plt.style.use('tableau-colorblind10')                                                          \n",
    "colors = plt.rcParams['axes.prop_cycle'].by_key()['color']\n",
    "\n",
    "plt.plot(np.array(powers_validation), label='DC', color=colors[0], linestyle='-', linewidth=3)\n",
    "plt.axhline(FLORIS_opt, label='optimal', color=colors[1], linestyle='--', linewidth=3)\n",
    "plt.axhline(FLORIS_baseline, label='baseline', color=colors[3], linestyle=':', linewidth=3)\n",
    "plt.legend()\n",
    "plt.xlabel('Batch')\n",
    "plt.ylabel('Power (kW)')\n",
    "fig = plt.gcf()\n",
    "fig.set_size_inches(12,6)\n",
    "plt.show()"
   ]
  },
  {
   "cell_type": "markdown",
   "id": "e7d9424b",
   "metadata": {},
   "source": [
    "### Testing"
   ]
  },
  {
   "cell_type": "code",
   "execution_count": 10,
   "id": "dd35f1fe",
   "metadata": {},
   "outputs": [
    {
     "name": "stdout",
     "output_type": "stream",
     "text": [
      "DC yaw:  [24.5 24.6  0.1  0.3]\n",
      "DC power:  13505.3\n",
      "\n",
      "optimal yaw:  [25. 25.  0.  0.]\n",
      "optimal power:  13503.5\n",
      "\n",
      "baseline yaw:  [0. 0. 0. 0.]\n",
      "baseline power:  13141.6\n",
      "\n"
     ]
    }
   ],
   "source": [
    "ws = torch.tensor([ws_max])\n",
    "wd = torch.tensor([wd_fixed])\n",
    "\n",
    "# generate mesh on turbine rotor\n",
    "x_coord_rotated, y_coord_rotated, mesh_x_rotated, \\\n",
    "    mesh_y_rotated, mesh_z, inds_sorted = \\\n",
    "    floris_pt.get_turbine_mesh(wd, x_coord, y_coord, z_coord)\n",
    "\n",
    "# get control action\n",
    "u_DC, _, _ = get_control(model, ws, inds_sorted, ws_min, ws_max)\n",
    "u_optimal = torch.tensor([25., 0., 25., 0.])[inds_sorted] # optimal yaw; from FLORIS\n",
    "u_baseline = torch.tensor([0., 0., 0., 0.])[inds_sorted] # unyawed\n",
    "\n",
    "# compare DC control action to optimal action (from FLORIS) \n",
    "# and baseline action (unyawed)\n",
    "us = [u_DC, u_optimal, u_baseline]\n",
    "labels = [\"DC\", \"optimal\", \"baseline\"]\n",
    "for i in range(len(us)):    \n",
    "    u = us[i]\n",
    "    # calculate field on rotor mesh\n",
    "    flow_field_u, yaw_angle = floris_pt.get_field_rotor(ws, u, \\\n",
    "        x_coord_rotated, y_coord_rotated, mesh_x_rotated, \\\n",
    "        mesh_y_rotated, mesh_z, inds_sorted)\n",
    "\n",
    "    # calculate turbine power\n",
    "    p = floris_pt.get_power(flow_field_u, x_coord_rotated, yaw_angle)\n",
    "    \n",
    "    label = labels[i]\n",
    "    print(label + \" yaw: \", np.round(u.detach().numpy().flatten(),1))\n",
    "    print(label + \" power: \", np.round(torch.sum(p).detach().numpy(), 1))\n",
    "    print(\"\")"
   ]
  }
 ],
 "metadata": {
  "kernelspec": {
   "display_name": "Python 3 (ipykernel)",
   "language": "python",
   "name": "python3"
  },
  "language_info": {
   "codemirror_mode": {
    "name": "ipython",
    "version": 3
   },
   "file_extension": ".py",
   "mimetype": "text/x-python",
   "name": "python",
   "nbconvert_exporter": "python",
   "pygments_lexer": "ipython3",
   "version": "3.10.5"
  }
 },
 "nbformat": 4,
 "nbformat_minor": 5
}
